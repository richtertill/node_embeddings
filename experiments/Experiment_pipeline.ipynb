{
 "cells": [
  {
   "cell_type": "code",
   "execution_count": 72,
   "metadata": {},
   "outputs": [
    {
     "name": "stdout",
     "output_type": "stream",
     "text": [
      "The autoreload extension is already loaded. To reload it, use:\n",
      "  %reload_ext autoreload\n"
     ]
    }
   ],
   "source": [
    "%load_ext autoreload\n",
    "%autoreload 2\n",
    "\n",
    "import sys\n",
    "import time\n",
    "sys.path.insert(0, '../')\n",
    "\n",
    "# import embedding methods\n",
    "from embedding.bernoulli import Bernoulli\n",
    "from embedding.kl import KL\n",
    "from embedding.matrix_factorization import MatrixFactorization\n",
    "\n",
    "# import evaluation methods\n",
    "from evaluation import evaluate_link_prediction\n",
    "from evaluation import evaluate_node_classification\n",
    "from evaluation import evaluate_node_clustering\n",
    "# \n",
    "# import utils\n",
    "from utils import graph_util\n",
    "from utils import plot_util\n",
    "from utils import model_util\n",
    "\n",
    "# visualization\n",
    "%matplotlib inline\n",
    "import seaborn as sns\n",
    "sns.set_style('whitegrid')\n",
    "import matplotlib.pyplot as plt\n",
    "\n",
    "import warnings\n",
    "warnings.filterwarnings('ignore')"
   ]
  },
  {
   "cell_type": "markdown",
   "metadata": {},
   "source": [
    "## Experiment 1"
   ]
  },
  {
   "cell_type": "code",
   "execution_count": 73,
   "metadata": {
    "scrolled": true
   },
   "outputs": [
    {
     "name": "stdout",
     "output_type": "stream",
     "text": [
      "The results of the current experiment are stored at experiments/results/2020_01_17_17_00\n",
      "ppr\n",
      "\tNode clustering evaluation has started...\n",
      "Epoch    0, loss = 0.00636\n",
      "Epoch   50, loss = 0.00626\n",
      "Model evaluation took: 6.445631265640259 seconds\n",
      "sum_power_tran\n",
      "\tNode clustering evaluation has started...\n",
      "Epoch    0, loss = 0.01350\n",
      "Epoch   50, loss = 0.01315\n",
      "Model evaluation took: 1.837026834487915 seconds\n",
      "transition\n",
      "\tNode clustering evaluation has started...\n",
      "Epoch    0, loss = 0.00741\n",
      "Epoch   50, loss = 0.00727\n",
      "Model evaluation took: 1.7102224826812744 seconds\n"
     ]
    }
   ],
   "source": [
    "# Experiment 1\n",
    "\n",
    "exp = {\n",
    "    \"max_epochs\": 100,\n",
    "    \"learning_rate\": 1e-2, #Adam\n",
    "    \"weight_decay\": 1e-7,\n",
    "    \n",
    "    \"link_prediction\":False,\n",
    "    \"link_pred_num_rounds\": 1,\n",
    "    \"link_pred_train_ratio\": 0.8,\n",
    "    \"link_pred_eval_every_n_steps\": 5,\n",
    "    \"link_pred_edge_emb_method\": \"average\",\n",
    "    \n",
    "    \"node_classification\": False,\n",
    "    \"node_class_num_rounds\": 2,\n",
    "    \"node_class_train_ratio\": 0.8,\n",
    "    \"node_class_eval_every_n_steps\": 5,\n",
    "    \n",
    "    \"node_clustering\": True,\n",
    "    \"node_clustering_num_rounds\": 1,\n",
    "    \"node_clustering_eval_epochs\": 2,\n",
    "}\n",
    "\n",
    "# pick datasets\n",
    "#datasets = [\"cora\", \"citeseer\", \"polblogs\"] # parliament, hvr, purdue_facebook\n",
    "#datasets = [\"cora\", \"hvr\", \"polblogs\"] \n",
    "datasets = [\"cora\"]#, \"citeseer\", \"polblogs\",\"hvr\"] \n",
    "\n",
    "#TO DO:\n",
    "#Laplacian (nobrainer) : Till done\n",
    "#NetMF : Tillcd\n",
    "#PPR : Till done(?)\n",
    "#Sum_Power_Tran : Jan\n",
    "#Sim_Rank : Jan\n",
    "#Big Task: what to do with W / U Epsilon : Jan\n",
    "#possible: Forest Fire / Stochastic Optimization\n",
    "\n",
    "\n",
    "#Bernoulli\n",
    "model_01 = Bernoulli(embedding_dimension=64, decoder='sigmoid') #works!\n",
    "model_02 = Bernoulli(embedding_dimension=64, decoder='sigmoid', W_enabled=True)\n",
    "model_03 = Bernoulli(embedding_dimension=64, decoder='gaussian') #works!\n",
    "model_04 = Bernoulli(embedding_dimension=64, decoder='exponential') #works!\n",
    "#model_05 = Bernoulli, exponential with W\n",
    "\n",
    "\n",
    "#KL\n",
    "#KL(similarity_measure{needs to be row stochastic}|softmax(ZZ^T))\n",
    "model_06 = KL(embedding_dimension=64, decoder='softmax', similarity_measure='ppr')\n",
    "model_07 = KL(embedding_dimension=64, decoder='softmax', similarity_measure='sum_power_tran')\n",
    "model_08 = KL(embedding_dimension=64, decoder='softmax', similarity_measure='sim_rank')\n",
    "model_09 = KL(embedding_dimension=64, decoder='softmax', similarity_measure='transition')\n",
    "model_10 = KL(embedding_dimension=64, decoder='softmax', similarity_measure='ppr', W_enabled=True)\n",
    "model_11 = KL(embedding_dimension=64, decoder='softmax', similarity_measure='sum_power_tran', W_enabled=True)\n",
    "model_12 = KL(embedding_dimension=64, decoder='softmax', similarity_measure='sim_rank', W_enabled=True)\n",
    "model_13 = KL(embedding_dimension=64, decoder='softmax', similarity_measure='transition', W_enabled=True)\n",
    "\n",
    "\n",
    "#Matrix Factorization\n",
    "model_14 = MatrixFactorization(embedding_dimension=64, similarity_measure='adjacency', embedding_option=1) #works!\n",
    "model_15 = MatrixFactorization(embedding_dimension=64, similarity_measure='laplacian', embedding_option=1) \n",
    "model_16 = MatrixFactorization(embedding_dimension=64, similarity_measure='transition', embedding_option=1)\n",
    "model_17 = MatrixFactorization(embedding_dimension=64, similarity_measure='sym_normalized_laplacian', embedding_option=1) #works!\n",
    "model_18 = MatrixFactorization(embedding_dimension=64, similarity_measure='NetMF', embedding_option=1)\n",
    "model_19 = MatrixFactorization(embedding_dimension=64, similarity_measure='ppr', embedding_option=1)\n",
    "model_20 = MatrixFactorization(embedding_dimension=64, similarity_measure='sum_power_tran', embedding_option=1)\n",
    "model_21 = MatrixFactorization(embedding_dimension=64, similarity_measure='sim_rank', embedding_option=1)\n",
    "\n",
    "model_22 = MatrixFactorization(embedding_dimension=64, similarity_measure='adjacency', embedding_option=2) #works!\n",
    "model_23 = MatrixFactorization(embedding_dimension=64, similarity_measure='laplacian', embedding_option=2) \n",
    "model_24 = MatrixFactorization(embedding_dimension=64, similarity_measure='transition', embedding_option=2)\n",
    "model_25 = MatrixFactorization(embedding_dimension=64, similarity_measure='sym_normalized_laplacian', embedding_option=2) #works!\n",
    "model_26 = MatrixFactorization(embedding_dimension=64, similarity_measure='NetMF', embedding_option=2)\n",
    "model_27 = MatrixFactorization(embedding_dimension=64, similarity_measure='ppr', embedding_option=2)\n",
    "model_28 = MatrixFactorization(embedding_dimension=64, similarity_measure='sum_power_tran', embedding_option=2)\n",
    "model_29 = MatrixFactorization(embedding_dimension=64, similarity_measure='sim_rank', embedding_option=2)\n",
    "\n",
    "# model_14, model_15, model_16, \n",
    "embedding_methods = [model_06,model_07,model_09]\n",
    "#                      model_14,model_15,model_16,model_17,model_18,model_19,model_20,model_21,\n",
    "                     # model_22,model_23,model_24,model_25,model_26,model_27,\n",
    "    \n",
    "                   \n",
    "#embedding_methods = [model_20]\n",
    "#embedding_methods = [model_15]\n",
    "\n",
    "# Normalized mutual information\n",
    "total_NMI=[]\n",
    "\n",
    "\n",
    "dset_NMI=[]\n",
    "\n",
    "# setup folders to store experiment setup summary and results\n",
    "result_folder = plot_util.setup_folders_and_summary_files(exp, datasets, embedding_methods)\n",
    "print(f'The results of the current experiment are stored at experiments/{result_folder}')\n",
    "\n",
    "for dataset in datasets:\n",
    "    \n",
    "    # load dataset\n",
    "    A, y = graph_util.load_dataset(dataset)\n",
    "    \n",
    "  \n",
    "    \n",
    "    for model in embedding_methods:\n",
    "        print(model._similarity_measure)\n",
    "        start = time.time()\n",
    "        # do link prediction\n",
    "        if(exp[\"link_prediction\"]):\n",
    "            link_prediction_folder = result_folder + \"/link_prediction\"\n",
    "            evaluate_link_prediction.expLP(A,dataset,model,exp[\"link_pred_num_rounds\"],\n",
    "                                           link_prediction_folder, train_ratio=exp[\"link_pred_train_ratio\"], \n",
    "                                           edge_emb_method=exp[\"link_pred_edge_emb_method\"],train_epochs=exp[\"max_epochs\"],\n",
    "                                           eval_epochs=exp[\"link_pred_eval_every_n_steps\"], undirected=True)\n",
    "            \n",
    "        # do node classification\n",
    "        if(exp[\"node_classification\"]):\n",
    "            node_classification_folder = result_folder + \"/node_classification\"\n",
    "            evaluate_node_classification.expNC(A,y,dataset,model,exp[\"node_class_num_rounds\"],\n",
    "                                               node_classification_folder, train_ratio=exp[\"node_class_train_ratio\"],\n",
    "                \n",
    "                                               train_epochs=exp[\"max_epochs\"],eval_epochs=exp[\"node_class_eval_every_n_steps\"],undirected=True)\n",
    "        if(exp[\"node_clustering\"]):\n",
    "            node_clustering_folder = result_folder + \"/node_clustering\"\n",
    "            NMI = evaluate_node_clustering.exp_Node_Clustering(A,y,dataset,model,exp[\"node_clustering_num_rounds\"],\n",
    "                                           node_clustering_folder , train_epochs=exp[\"max_epochs\"],\n",
    "                                           eval_epochs=exp[\"node_clustering_eval_epochs\"],undirected=True)\n",
    "            total_NMI.append(NMI)\n",
    "            with open('results_vis/'+dataset+str(model._method_name)+str(model._similarity_measure)\n",
    "                      +'NMI_results.txt','w') as f:\n",
    "                for listitem in NMI:\n",
    "                    f.write('%s\\n' % listitem)\n",
    "        dset_NMI.append(total_NMI)    \n",
    "        end = time.time()\n",
    "        print(f'Model evaluation took: {end-start} seconds')"
   ]
  },
  {
   "cell_type": "code",
   "execution_count": 74,
   "metadata": {},
   "outputs": [
    {
     "data": {
      "image/png": "[encoded data removed]",
      "text/plain": [
       "<Figure size 432x288 with 1 Axes>"
      ]
     },
     "metadata": {},
     "output_type": "display_data"
    }
   ],
   "source": [
    "    \n",
    "    \n",
    "headers= ['sig','exp','gau',\n",
    "            'tr','ppr','spt','sr',\n",
    "            'adj','lap','ftr','nl','nf', 'fppr', 'fspt'\n",
    "         ]\n",
    "\n",
    "headers= ['tr','ppr','spt']\n",
    "for ds,NMI in zip(datasets,dset_NMI):\n",
    "    plt.figure()\n",
    "    sns_plot = sns.boxplot(x=headers, y=NMI);\n",
    "    plt.title(\"Comparison for node clustering on \"+ds)\n",
    "    plt.xlabel(\"model\")\n",
    "    plt.ylabel(\"NMI\")\n",
    "    sns_plot.figure.savefig('plots/NMI_'+ds+'.png')"
   ]
  },
  {
   "cell_type": "code",
   "execution_count": 75,
   "metadata": {},
   "outputs": [
    {
     "data": {
      "text/plain": [
       "[[0.00824491489327723], [0.009650864521806052], [0.007542289413186335]]"
      ]
     },
     "execution_count": 75,
     "metadata": {},
     "output_type": "execute_result"
    }
   ],
   "source": [
    "total_NMI"
   ]
  },
  {
   "cell_type": "code",
   "execution_count": null,
   "metadata": {},
   "outputs": [],
   "source": []
  }
 ],
 "metadata": {
  "kernelspec": {
   "display_name": "Python 3",
   "language": "python",
   "name": "python3"
  },
  "language_info": {
   "codemirror_mode": {
    "name": "ipython",
    "version": 3
   },
   "file_extension": ".py",
   "mimetype": "text/x-python",
   "name": "python",
   "nbconvert_exporter": "python",
   "pygments_lexer": "ipython3",
   "version": "3.7.5"
  }
 },
 "nbformat": 4,
 "nbformat_minor": 2
}

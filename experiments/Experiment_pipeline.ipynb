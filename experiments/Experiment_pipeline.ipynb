{
 "cells": [
  {
   "cell_type": "code",
   "execution_count": 1,
   "metadata": {},
   "outputs": [],
   "source": [
    "%load_ext autoreload\n",
    "%autoreload 2\n",
    "\n",
    "import sys\n",
    "sys.path.insert(0, '../')\n",
    "\n",
    "# import embedding methods\n",
    "from embedding.bernoulli import Bernoulli\n",
    "from embedding.KL import KL\n",
    "\n",
    "# import evaluation methods\n",
    "from evaluation import evaluate_link_prediction\n",
    "\n",
    "# import utils\n",
    "from utils import graph_util\n",
    "from utils import plot_util\n",
    "from utils import model_util\n",
    "\n",
    "# visualization\n",
    "%matplotlib inline\n",
    "#sns.set_style('whitegrid')\n",
    "\n",
    "import warnings\n",
    "warnings.filterwarnings('ignore')"
   ]
  },
  {
   "cell_type": "markdown",
   "metadata": {},
   "source": [
    "## Experiment 1"
   ]
  },
  {
   "cell_type": "code",
   "execution_count": null,
   "metadata": {},
   "outputs": [
    {
     "name": "stdout",
     "output_type": "stream",
     "text": [
      "The results of the current experiment are stored at experiments/results/2019_12_01_23_54\n",
      "\tLink prediction evaluation has started...\n"
     ]
    }
   ],
   "source": [
    "# Experiment 1\n",
    "\n",
    "exp = {\n",
    "    \"max_epochs\": 500,\n",
    "    \"learning_rate\": 1e-2, #Adam\n",
    "    \"weight_decay\": 1e-7,\n",
    "    \n",
    "    \"link_prediction\": True,\n",
    "    \"link_pred_num_rounds\": 3,\n",
    "    \"link_pred_train_ratio\": 0.8,\n",
    "    \"link_pred_eval_every_n_steps\": 25,\n",
    "    \"link_pred_edge_emb_method\": \"average\",\n",
    "    \n",
    "    \"node_classification\": False,\n",
    "    \"node_class_num_rounds\": 3,\n",
    "    \"node_class_train_ratio\": 0.8,\n",
    "    \"node_class_eval_every_n_steps\": 25,\n",
    "}\n",
    "\n",
    "# define models\n",
    "model_1 = {\n",
    "    \"name\": \"Bernoulli\",\n",
    "    \"emb_dim\": 64,\n",
    "    \"distance_meassure\": 'sigmoid'\n",
    "}\n",
    "\n",
    "model_2 = {\n",
    "    \"name\": \"Bernoulli\",\n",
    "    \"emb_dim\": 90,\n",
    "    \"distance_meassure\": 'exponential'\n",
    "}\n",
    "\n",
    "model_3 = {\n",
    "    \"name\": \"Bernoulli\",\n",
    "    \"emb_dim\": 14,\n",
    "    \"distance_meassure\": 'distance'\n",
    "}\n",
    "\n",
    "model_4 = {\n",
    "    \"name\": \"KL\",\n",
    "    \"emb_dim\": 64,\n",
    "}\n",
    "\n",
    "\n",
    "# pick datasets\n",
    "datasets = [\"conra\", \"hvr\"]\n",
    "\n",
    "\n",
    "embedding_methods = [model_1, model_4]\n",
    "\n",
    "# setup folders to store experiment setup summary and results\n",
    "result_folder = plot_util.setup_folders_and_summary_files(exp, datasets, embedding_methods)\n",
    "print(f'The results of the current experiment are stored at experiments/{result_folder}')\n",
    "\n",
    "for dataset in datasets:\n",
    "    \n",
    "    # load dataset\n",
    "    A, y = graph_util.load_dataset(dataset)\n",
    "    \n",
    "    for model in embedding_methods:\n",
    "        \n",
    "        # do link prediction\n",
    "        embedding_method = model_util.create_model_from_dict(model)\n",
    "        link_prediction_folder = result_folder + \"/link_prediction\"\n",
    "        evaluate_link_prediction.expLP(A,dataset,embedding_method,exp[\"link_pred_num_rounds\"],\n",
    "                                       link_prediction_folder, train_ratio=exp[\"link_pred_train_ratio\"], \n",
    "                                       edge_emb_method=exp[\"link_pred_edge_emb_method\"],train_epochs=exp[\"max_epochs\"],\n",
    "                                       eval_epochs=exp[\"link_pred_eval_every_n_steps\"], undirected=True)\n",
    "        \n",
    "        # do node classification\n",
    "#         node_classification_folder = result_folder + \"/node_classification\"\n",
    "#         evaluate_node_classification.expNC(A,dataset,embedding_method,exp[\"number_rounds_node_classification\"],node_classification_folder, train_ratio=exp[\"node_classification_train_ratio\"],undirected=True)"
   ]
  },
  {
   "cell_type": "code",
   "execution_count": null,
   "metadata": {},
   "outputs": [],
   "source": []
  }
 ],
 "metadata": {
  "kernelspec": {
   "display_name": "Python 3",
   "language": "python",
   "name": "python3"
  },
  "language_info": {
   "codemirror_mode": {
    "name": "ipython",
    "version": 3
   },
   "file_extension": ".py",
   "mimetype": "text/x-python",
   "name": "python",
   "nbconvert_exporter": "python",
   "pygments_lexer": "ipython3",
   "version": "3.7.3"
  }
 },
 "nbformat": 4,
 "nbformat_minor": 2
}

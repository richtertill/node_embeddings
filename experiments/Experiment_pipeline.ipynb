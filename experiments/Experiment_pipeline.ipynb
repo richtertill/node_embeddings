{
 "cells": [
  {
   "cell_type": "code",
   "execution_count": 4,
   "metadata": {},
   "outputs": [
    {
     "name": "stdout",
     "output_type": "stream",
     "text": [
      "The autoreload extension is already loaded. To reload it, use:\n",
      "  %reload_ext autoreload\n"
     ]
    }
   ],
   "source": [
    "%load_ext autoreload\n",
    "%autoreload 2\n",
    "\n",
    "import sys\n",
    "import time\n",
    "sys.path.insert(0, '../')\n",
    "\n",
    "# import embedding methods\n",
    "from embedding.bernoulli import Bernoulli\n",
    "from embedding.kl import KL\n",
    "from embedding.matrix_factorization import MatrixFactorization\n",
    "\n",
    "# import evaluation methods\n",
    "from evaluation import evaluate_link_prediction\n",
    "from evaluation import evaluate_node_classification\n",
    "from evaluation import evaluate_node_clustering\n",
    "# \n",
    "# import utils\n",
    "from utils import graph_util\n",
    "from utils import plot_util\n",
    "from utils import model_util\n",
    "\n",
    "# visualization\n",
    "%matplotlib inline\n",
    "import seaborn as sns\n",
    "sns.set_style('whitegrid')\n",
    "\n",
    "import warnings\n",
    "warnings.filterwarnings('ignore')"
   ]
  },
  {
   "cell_type": "markdown",
   "metadata": {},
   "source": [
    "## Experiment 1"
   ]
  },
  {
   "cell_type": "code",
   "execution_count": null,
   "metadata": {
    "scrolled": true
   },
   "outputs": [
    {
     "name": "stdout",
     "output_type": "stream",
     "text": [
      "The results of the current experiment are stored at experiments/results/2020_01_06_19_08\n",
      "\tNode clustering evaluation has started...\n",
      "Epoch    0, loss = 0.64612\n",
      "Epoch    0, loss = 0.64615\n",
      "Epoch    0, loss = 0.64613\n",
      "Epoch    0, loss = 0.64613\n",
      "Epoch    0, loss = 0.64615\n",
      "Model evaluation took: 4.922173500061035 seconds\n",
      "\tNode clustering evaluation has started...\n",
      "Epoch    0, loss = 18776408.00000\n"
     ]
    }
   ],
   "source": [
    "# Experiment 1\n",
    "\n",
    "exp = {\n",
    "    \"max_epochs\": 500,\n",
    "    \"learning_rate\": 1e-2, #Adam\n",
    "    \"weight_decay\": 1e-7,\n",
    "    \n",
    "    \"link_prediction\": False,\n",
    "    \"link_pred_num_rounds\": 2,\n",
    "    \"link_pred_train_ratio\": 0.8,\n",
    "    \"link_pred_eval_every_n_steps\": 5,\n",
    "    \"link_pred_edge_emb_method\": \"average\",\n",
    "    \n",
    "    \"node_classification\": False,\n",
    "    \"node_class_num_rounds\": 2,\n",
    "    \"node_class_train_ratio\": 0.8,\n",
    "    \"node_class_eval_every_n_steps\": 5,\n",
    "    \n",
    "    \"node_clustering\": True,\n",
    "    \"node_clustering_num_rounds\": 5,\n",
    "    \"node_clustering_eval_epochs\": 1,\n",
    "}\n",
    "\n",
    "# pick datasets\n",
    "datasets = [\"cora\", \"citeseer\", \"polblogs\"] # parliament, hvr, purdue_facebook\n",
    "\n",
    "model_01 = Bernoulli(embedding_dimension=64, decoder='sigmoid')\n",
    "model_02 = Bernoulli(embedding_dimension=64, decoder='gaussian')\n",
    "model_03 = Bernoulli(embedding_dimension=64, decoder='exponential')\n",
    "\n",
    "model_04 = KL(embedding_dimension=64, decoder='sigmoid', similarity_measure='adjacency')\n",
    "model_05 = KL(embedding_dimension=64, decoder='exponential',similarity_measure='adjacency')\n",
    "model_06 = KL(embedding_dimension=64, decoder='gaussian',similarity_measure='adjacency')\n",
    "model_07 = KL(embedding_dimension=64, decoder='sigmoid',similarity_measure='laplacian')\n",
    "model_08 = KL(embedding_dimension=64, decoder='exponential',similarity_measure='laplacian')\n",
    "model_09 = KL(embedding_dimension=64, decoder='gaussian',similarity_measure='laplacian')\n",
    "model_10 = KL(embedding_dimension=64, decoder='sigmoid', similarity_measure='dw')\n",
    "model_11 = KL(embedding_dimension=64, decoder='exponential',similarity_measure='dw')\n",
    "model_12 = KL(embedding_dimension=64, decoder='gaussian',similarity_measure='dw')\n",
    "\n",
    "model_13 = MatrixFactorization(embedding_dimension=64, similarity_measure='adjacency')\n",
    "model_14 = MatrixFactorization(embedding_dimension=64, similarity_measure='laplacian')\n",
    "model_15 = MatrixFactorization(embedding_dimension=64, similarity_measure='dw')\n",
    "\n",
    "\n",
    "embedding_methods = [model_01, model_04, model_03]\n",
    "\n",
    "#model_01, model_03, model_04, model_06, \n",
    "\n",
    "# embedding_methods = [model_13, model_14, model_15]\n",
    "\n",
    "# Normalized mutual information\n",
    "total_NMI=[]\n",
    "\n",
    "# setup folders to store experiment setup summary and results\n",
    "result_folder = plot_util.setup_folders_and_summary_files(exp, datasets, embedding_methods)\n",
    "print(f'The results of the current experiment are stored at experiments/{result_folder}')\n",
    "\n",
    "for dataset in datasets:\n",
    "    \n",
    "    # load dataset\n",
    "    A, y = graph_util.load_dataset(dataset)\n",
    "    \n",
    "    \n",
    "    for model in embedding_methods:\n",
    "        start = time.time()\n",
    "        # do link prediction\n",
    "        if(exp[\"link_prediction\"]):\n",
    "            link_prediction_folder = result_folder + \"/link_prediction\"\n",
    "            evaluate_link_prediction.expLP(A,dataset,model,exp[\"link_pred_num_rounds\"],\n",
    "                                           link_prediction_folder, train_ratio=exp[\"link_pred_train_ratio\"], \n",
    "                                           edge_emb_method=exp[\"link_pred_edge_emb_method\"],train_epochs=exp[\"max_epochs\"],\n",
    "                                           eval_epochs=exp[\"link_pred_eval_every_n_steps\"], undirected=True)\n",
    "            \n",
    "        # do node classification\n",
    "        if(exp[\"node_classification\"]):\n",
    "            node_classification_folder = result_folder + \"/node_classification\"\n",
    "            evaluate_node_classification.expNC(A,y,dataset,model,exp[\"node_class_num_rounds\"],\n",
    "                                               node_classification_folder, train_ratio=exp[\"node_class_train_ratio\"],\n",
    "                \n",
    "                                               train_epochs=exp[\"max_epochs\"],eval_epochs=exp[\"node_class_eval_every_n_steps\"],undirected=True)\n",
    "        if(exp[\"node_clustering\"]):\n",
    "            node_clustering_folder = result_folder + \"/node_clustering\"\n",
    "            NMI = evaluate_node_clustering.exp_Node_Clustering(A,y,dataset,model,exp[\"node_clustering_num_rounds\"],\n",
    "                                           node_clustering_folder ,eval_epochs=exp[\"node_clustering_eval_epochs\"],undirected=True)\n",
    "            total_NMI.append(NMI)\n",
    "            \n",
    "        end = time.time()\n",
    "        print(f'Model evaluation took: {end-start} seconds')"
   ]
  },
  {
   "cell_type": "code",
   "execution_count": null,
   "metadata": {},
   "outputs": [],
   "source": [
    "sns.boxplot(data= total_NMI);"
   ]
  },
  {
   "cell_type": "code",
   "execution_count": null,
   "metadata": {},
   "outputs": [],
   "source": []
  }
 ],
 "metadata": {
  "kernelspec": {
   "display_name": "Python 3",
   "language": "python",
   "name": "python3"
  },
  "language_info": {
   "codemirror_mode": {
    "name": "ipython",
    "version": 3
   },
   "file_extension": ".py",
   "mimetype": "text/x-python",
   "name": "python",
   "nbconvert_exporter": "python",
   "pygments_lexer": "ipython3",
   "version": "3.7.5"
  }
 },
 "nbformat": 4,
 "nbformat_minor": 2
}

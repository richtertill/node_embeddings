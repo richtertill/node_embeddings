{
 "cells": [
  {
   "cell_type": "code",
   "execution_count": 2,
   "metadata": {},
   "outputs": [
    {
     "name": "stdout",
     "output_type": "stream",
     "text": [
      "The autoreload extension is already loaded. To reload it, use:\n",
      "  %reload_ext autoreload\n"
     ]
    }
   ],
   "source": [
    "%load_ext autoreload\n",
    "%autoreload 2\n",
    "\n",
    "import sys\n",
    "import time\n",
    "sys.path.insert(0, '../')\n",
    "\n",
    "# import embedding methods\n",
    "from embedding.bernoulli import Bernoulli\n",
    "from embedding.kl import KL\n",
    "from embedding.matrix_factorization import MatrixFactorization\n",
    "\n",
    "# import evaluation methods\n",
    "from evaluation import evaluate_link_prediction\n",
    "from evaluation import evaluate_node_classification\n",
    "# \n",
    "# import utils\n",
    "from utils import graph_util\n",
    "from utils import plot_util\n",
    "from utils import model_util\n",
    "\n",
    "# visualization\n",
    "%matplotlib inline\n",
    "#sns.set_style('whitegrid')\n",
    "\n",
    "import warnings\n",
    "warnings.filterwarnings('ignore')"
   ]
  },
  {
   "cell_type": "markdown",
   "metadata": {},
   "source": [
    "## Experiment 1"
   ]
  },
  {
   "cell_type": "code",
   "execution_count": 3,
   "metadata": {},
   "outputs": [
    {
     "name": "stdout",
     "output_type": "stream",
     "text": [
      "The results of the current experiment are stored at experiments/results/2019_12_17_10_00\n",
      "\tLink prediction evaluation has started...\n",
      "\tNode classification evaluation has started...\n"
     ]
    },
    {
     "ename": "KeyboardInterrupt",
     "evalue": "",
     "output_type": "error",
     "traceback": [
      "\u001b[0;31m---------------------------------------------------------------------------\u001b[0m",
      "\u001b[0;31mKeyboardInterrupt\u001b[0m                         Traceback (most recent call last)",
      "\u001b[0;32m<ipython-input-3-646f558b202a>\u001b[0m in \u001b[0;36m<module>\u001b[0;34m\u001b[0m\n\u001b[1;32m     71\u001b[0m                                                \u001b[0mnode_classification_folder\u001b[0m\u001b[0;34m,\u001b[0m \u001b[0mtrain_ratio\u001b[0m\u001b[0;34m=\u001b[0m\u001b[0mexp\u001b[0m\u001b[0;34m[\u001b[0m\u001b[0;34m\"node_class_train_ratio\"\u001b[0m\u001b[0;34m]\u001b[0m\u001b[0;34m,\u001b[0m\u001b[0;34m\u001b[0m\u001b[0;34m\u001b[0m\u001b[0m\n\u001b[1;32m     72\u001b[0m \u001b[0;34m\u001b[0m\u001b[0m\n\u001b[0;32m---> 73\u001b[0;31m                                                train_epochs=exp[\"max_epochs\"],eval_epochs=exp[\"node_class_eval_every_n_steps\"],undirected=True)\n\u001b[0m\u001b[1;32m     74\u001b[0m         \u001b[0mend\u001b[0m \u001b[0;34m=\u001b[0m \u001b[0mtime\u001b[0m\u001b[0;34m.\u001b[0m\u001b[0mtime\u001b[0m\u001b[0;34m(\u001b[0m\u001b[0;34m)\u001b[0m\u001b[0;34m\u001b[0m\u001b[0;34m\u001b[0m\u001b[0m\n\u001b[1;32m     75\u001b[0m         \u001b[0mprint\u001b[0m\u001b[0;34m(\u001b[0m\u001b[0;34mf'Model evaluation took: {end-start} seconds'\u001b[0m\u001b[0;34m)\u001b[0m\u001b[0;34m\u001b[0m\u001b[0;34m\u001b[0m\u001b[0m\n",
      "\u001b[0;32m/nfs/students/winter-term-2019/project_5/ruetting/project-5/evaluation/evaluate_node_classification.py\u001b[0m in \u001b[0;36mexpNC\u001b[0;34m(AdjMat, Y, dataset_name, embedding_method, rounds, result_folder, train_ratio, train_epochs, eval_epochs, undirected)\u001b[0m\n\u001b[1;32m     71\u001b[0m             \u001b[0membedding_method\u001b[0m\u001b[0;34m.\u001b[0m\u001b[0mreset_epoch\u001b[0m\u001b[0;34m(\u001b[0m\u001b[0;34m)\u001b[0m\u001b[0;34m\u001b[0m\u001b[0;34m\u001b[0m\u001b[0m\n\u001b[1;32m     72\u001b[0m             micros[round_id], macros[round_id] = evaluateNodeClassification(\n\u001b[0;32m---> 73\u001b[0;31m                     AdjMat,Y, embedding_method, train_ratio, train_epochs, eval_epochs)\n\u001b[0m\u001b[1;32m     74\u001b[0m \u001b[0;34m\u001b[0m\u001b[0m\n\u001b[1;32m     75\u001b[0m \u001b[0;34m\u001b[0m\u001b[0m\n",
      "\u001b[0;32m/nfs/students/winter-term-2019/project_5/ruetting/project-5/evaluation/evaluate_node_classification.py\u001b[0m in \u001b[0;36mevaluateNodeClassification\u001b[0;34m(AdjMat, Y, embedding_method, train_ratio, train_epochs, eval_epochs, undirected)\u001b[0m\n\u001b[1;32m     38\u001b[0m     \u001b[0;32mfor\u001b[0m \u001b[0mi\u001b[0m \u001b[0;32min\u001b[0m \u001b[0mrange\u001b[0m\u001b[0;34m(\u001b[0m\u001b[0;36m1\u001b[0m\u001b[0;34m,\u001b[0m\u001b[0mint\u001b[0m\u001b[0;34m(\u001b[0m\u001b[0mtrain_epochs\u001b[0m\u001b[0;34m/\u001b[0m\u001b[0meval_epochs\u001b[0m\u001b[0;34m)\u001b[0m\u001b[0;34m)\u001b[0m\u001b[0;34m:\u001b[0m\u001b[0;34m\u001b[0m\u001b[0;34m\u001b[0m\u001b[0m\n\u001b[1;32m     39\u001b[0m \u001b[0;34m\u001b[0m\u001b[0m\n\u001b[0;32m---> 40\u001b[0;31m         \u001b[0memb\u001b[0m \u001b[0;34m=\u001b[0m \u001b[0membedding_method\u001b[0m\u001b[0;34m.\u001b[0m\u001b[0mlearn_embedding\u001b[0m\u001b[0;34m(\u001b[0m\u001b[0mi\u001b[0m\u001b[0;34m*\u001b[0m\u001b[0meval_epochs\u001b[0m\u001b[0;34m)\u001b[0m\u001b[0;34m\u001b[0m\u001b[0;34m\u001b[0m\u001b[0m\n\u001b[0m\u001b[1;32m     41\u001b[0m \u001b[0;34m\u001b[0m\u001b[0m\n\u001b[1;32m     42\u001b[0m         \u001b[0mrf\u001b[0m \u001b[0;34m=\u001b[0m \u001b[0mRandomForestClassifier\u001b[0m\u001b[0;34m(\u001b[0m\u001b[0;34m)\u001b[0m\u001b[0;34m\u001b[0m\u001b[0;34m\u001b[0m\u001b[0m\n",
      "\u001b[0;32m/nfs/students/winter-term-2019/project_5/ruetting/project-5/embedding/bernoulli.py\u001b[0m in \u001b[0;36mlearn_embedding\u001b[0;34m(self, num_epoch)\u001b[0m\n\u001b[1;32m    149\u001b[0m         \u001b[0;32mfor\u001b[0m \u001b[0mepoch\u001b[0m \u001b[0;32min\u001b[0m \u001b[0mrange\u001b[0m\u001b[0;34m(\u001b[0m\u001b[0mself\u001b[0m\u001b[0;34m.\u001b[0m\u001b[0m_epoch_begin\u001b[0m\u001b[0;34m,\u001b[0m \u001b[0mself\u001b[0m\u001b[0;34m.\u001b[0m\u001b[0m_epoch_end\u001b[0m\u001b[0;34m+\u001b[0m\u001b[0;36m1\u001b[0m\u001b[0;34m)\u001b[0m\u001b[0;34m:\u001b[0m\u001b[0;34m\u001b[0m\u001b[0;34m\u001b[0m\u001b[0m\n\u001b[1;32m    150\u001b[0m             \u001b[0mself\u001b[0m\u001b[0;34m.\u001b[0m\u001b[0m_opt\u001b[0m\u001b[0;34m.\u001b[0m\u001b[0mzero_grad\u001b[0m\u001b[0;34m(\u001b[0m\u001b[0;34m)\u001b[0m\u001b[0;34m\u001b[0m\u001b[0;34m\u001b[0m\u001b[0m\n\u001b[0;32m--> 151\u001b[0;31m             \u001b[0mloss\u001b[0m \u001b[0;34m=\u001b[0m \u001b[0mcompute_loss\u001b[0m\u001b[0;34m(\u001b[0m\u001b[0mself\u001b[0m\u001b[0;34m.\u001b[0m\u001b[0m_emb\u001b[0m\u001b[0;34m)\u001b[0m\u001b[0;34m\u001b[0m\u001b[0;34m\u001b[0m\u001b[0m\n\u001b[0m\u001b[1;32m    152\u001b[0m             \u001b[0mloss\u001b[0m\u001b[0;34m.\u001b[0m\u001b[0mbackward\u001b[0m\u001b[0;34m(\u001b[0m\u001b[0;34m)\u001b[0m\u001b[0;34m\u001b[0m\u001b[0;34m\u001b[0m\u001b[0m\n\u001b[1;32m    153\u001b[0m             \u001b[0mself\u001b[0m\u001b[0;34m.\u001b[0m\u001b[0m_opt\u001b[0m\u001b[0;34m.\u001b[0m\u001b[0mstep\u001b[0m\u001b[0;34m(\u001b[0m\u001b[0;34m)\u001b[0m\u001b[0;34m\u001b[0m\u001b[0;34m\u001b[0m\u001b[0m\n",
      "\u001b[0;32m/nfs/students/winter-term-2019/project_5/ruetting/project-5/embedding/bernoulli.py\u001b[0m in \u001b[0;36mcompute_loss_exponential\u001b[0;34m(emb, eps)\u001b[0m\n\u001b[1;32m    133\u001b[0m             \u001b[0mneg_term\u001b[0m\u001b[0;34m[\u001b[0m\u001b[0mnp\u001b[0m\u001b[0;34m.\u001b[0m\u001b[0mdiag_indices\u001b[0m\u001b[0;34m(\u001b[0m\u001b[0memb\u001b[0m\u001b[0;34m.\u001b[0m\u001b[0mshape\u001b[0m\u001b[0;34m[\u001b[0m\u001b[0;36m0\u001b[0m\u001b[0;34m]\u001b[0m\u001b[0;34m)\u001b[0m\u001b[0;34m]\u001b[0m\u001b[0;34m=\u001b[0m\u001b[0;36m0.0\u001b[0m\u001b[0;34m\u001b[0m\u001b[0;34m\u001b[0m\u001b[0m\n\u001b[1;32m    134\u001b[0m             \u001b[0mexpdist\u001b[0m\u001b[0;34m=\u001b[0m\u001b[0mtorch\u001b[0m\u001b[0;34m.\u001b[0m\u001b[0mexp\u001b[0m\u001b[0;34m(\u001b[0m\u001b[0mdist\u001b[0m\u001b[0;34m)\u001b[0m\u001b[0;34m\u001b[0m\u001b[0;34m\u001b[0m\u001b[0m\n\u001b[0;32m--> 135\u001b[0;31m             \u001b[0mlogdist\u001b[0m\u001b[0;34m=\u001b[0m\u001b[0mtorch\u001b[0m\u001b[0;34m.\u001b[0m\u001b[0mlog\u001b[0m\u001b[0;34m(\u001b[0m\u001b[0;36m1\u001b[0m\u001b[0;34m-\u001b[0m\u001b[0mexpdist\u001b[0m\u001b[0;34m+\u001b[0m\u001b[0meps\u001b[0m\u001b[0;34m)\u001b[0m\u001b[0;34m\u001b[0m\u001b[0;34m\u001b[0m\u001b[0m\n\u001b[0m\u001b[1;32m    136\u001b[0m             \u001b[0mpos_term\u001b[0m \u001b[0;34m=\u001b[0m \u001b[0mlogdist\u001b[0m\u001b[0;34m[\u001b[0m\u001b[0mself\u001b[0m\u001b[0;34m.\u001b[0m\u001b[0m_e1\u001b[0m\u001b[0;34m,\u001b[0m\u001b[0mself\u001b[0m\u001b[0;34m.\u001b[0m\u001b[0m_e2\u001b[0m\u001b[0;34m]\u001b[0m\u001b[0;34m\u001b[0m\u001b[0;34m\u001b[0m\u001b[0m\n\u001b[1;32m    137\u001b[0m             \u001b[0;32mreturn\u001b[0m \u001b[0;34m-\u001b[0m\u001b[0;34m(\u001b[0m\u001b[0mpos_term\u001b[0m\u001b[0;34m.\u001b[0m\u001b[0msum\u001b[0m\u001b[0;34m(\u001b[0m\u001b[0;34m)\u001b[0m \u001b[0;34m+\u001b[0m \u001b[0mneg_term\u001b[0m\u001b[0;34m.\u001b[0m\u001b[0msum\u001b[0m\u001b[0;34m(\u001b[0m\u001b[0;34m)\u001b[0m\u001b[0;34m)\u001b[0m \u001b[0;34m/\u001b[0m \u001b[0memb\u001b[0m\u001b[0;34m.\u001b[0m\u001b[0mshape\u001b[0m\u001b[0;34m[\u001b[0m\u001b[0;36m0\u001b[0m\u001b[0;34m]\u001b[0m\u001b[0;34m**\u001b[0m\u001b[0;36m2\u001b[0m\u001b[0;34m\u001b[0m\u001b[0;34m\u001b[0m\u001b[0m\n",
      "\u001b[0;32m/nfs/students/winter-term-2019/project_5/ruetting/project-5/venv/lib/python3.7/site-packages/torch/tensor.py\u001b[0m in \u001b[0;36m__rsub__\u001b[0;34m(self, other)\u001b[0m\n\u001b[1;32m    344\u001b[0m \u001b[0;34m\u001b[0m\u001b[0m\n\u001b[1;32m    345\u001b[0m     \u001b[0;32mdef\u001b[0m \u001b[0m__rsub__\u001b[0m\u001b[0;34m(\u001b[0m\u001b[0mself\u001b[0m\u001b[0;34m,\u001b[0m \u001b[0mother\u001b[0m\u001b[0;34m)\u001b[0m\u001b[0;34m:\u001b[0m\u001b[0;34m\u001b[0m\u001b[0;34m\u001b[0m\u001b[0m\n\u001b[0;32m--> 346\u001b[0;31m         \u001b[0;32mreturn\u001b[0m \u001b[0m_C\u001b[0m\u001b[0;34m.\u001b[0m\u001b[0m_VariableFunctions\u001b[0m\u001b[0;34m.\u001b[0m\u001b[0mrsub\u001b[0m\u001b[0;34m(\u001b[0m\u001b[0mself\u001b[0m\u001b[0;34m,\u001b[0m \u001b[0mother\u001b[0m\u001b[0;34m)\u001b[0m\u001b[0;34m\u001b[0m\u001b[0;34m\u001b[0m\u001b[0m\n\u001b[0m\u001b[1;32m    347\u001b[0m \u001b[0;34m\u001b[0m\u001b[0m\n\u001b[1;32m    348\u001b[0m     \u001b[0;32mdef\u001b[0m \u001b[0m__rdiv__\u001b[0m\u001b[0;34m(\u001b[0m\u001b[0mself\u001b[0m\u001b[0;34m,\u001b[0m \u001b[0mother\u001b[0m\u001b[0;34m)\u001b[0m\u001b[0;34m:\u001b[0m\u001b[0;34m\u001b[0m\u001b[0;34m\u001b[0m\u001b[0m\n",
      "\u001b[0;31mKeyboardInterrupt\u001b[0m: "
     ]
    }
   ],
   "source": [
    "# Experiment 1\n",
    "\n",
    "exp = {\n",
    "    \"max_epochs\": 30,\n",
    "    \"learning_rate\": 1e-2, #Adam\n",
    "    \"weight_decay\": 1e-7,\n",
    "    \n",
    "    \"link_prediction\": True,\n",
    "    \"link_pred_num_rounds\": 3,\n",
    "    \"link_pred_train_ratio\": 0.8,\n",
    "    \"link_pred_eval_every_n_steps\": 5,\n",
    "    \"link_pred_edge_emb_method\": \"average\",\n",
    "    \n",
    "    \"node_classification\": True,\n",
    "    \"node_class_num_rounds\": 3,\n",
    "    \"node_class_train_ratio\": 0.8,\n",
    "    \"node_class_eval_every_n_steps\": 5,\n",
    "}\n",
    "\n",
    "# pick datasets\n",
    "datasets = [\"cora\", \"citeseer\", \"polblogs\"] # parliament, hvr, purdue_facebook\n",
    "\n",
    "model_01 = Bernoulli(embedding_dimension=64, decoder='sigmoid')\n",
    "model_02 = Bernoulli(embedding_dimension=64, decoder='gaussian')\n",
    "model_03 = Bernoulli(embedding_dimension=64, decoder='exponential')\n",
    "\n",
    "model_04 = KL(embedding_dimension=64, decoder='sigmoid', similarity_measure='adjacency')\n",
    "model_05 = KL(embedding_dimension=64, decoder='exponential',similarity_measure='adjacency')\n",
    "model_06 = KL(embedding_dimension=64, decoder='gaussian',similarity_measure='adjacency')\n",
    "model_07 = KL(embedding_dimension=64, decoder='sigmoid',similarity_measure='laplacian')\n",
    "model_08 = KL(embedding_dimension=64, decoder='exponential',similarity_measure='laplacian')\n",
    "model_09 = KL(embedding_dimension=64, decoder='gaussian',similarity_measure='laplacian')\n",
    "model_10 = KL(embedding_dimension=64, decoder='sigmoid', similarity_measure='dw')\n",
    "model_11 = KL(embedding_dimension=64, decoder='exponential',similarity_measure='dw')\n",
    "model_12 = KL(embedding_dimension=64, decoder='gaussian',similarity_measure='dw')\n",
    "\n",
    "model_13 = MatrixFactorization(embedding_dimension=64, similarity_measure='adjacency')\n",
    "model_14 = MatrixFactorization(embedding_dimension=64, similarity_measure='laplacian')\n",
    "model_15 = MatrixFactorization(embedding_dimension=64, similarity_measure='dw')\n",
    "\n",
    "\n",
    "embedding_methods = [model_01,model_02, model_03, model_04, model_06, model_07, model_08, model_09, model_10, model_11,\n",
    "                    model_12, model_13, model_14, model_15]\n",
    "\n",
    "# embedding_methods = [model_13, model_14, model_15]\n",
    "\n",
    "# setup folders to store experiment setup summary and results\n",
    "result_folder = plot_util.setup_folders_and_summary_files(exp, datasets, embedding_methods)\n",
    "print(f'The results of the current experiment are stored at experiments/{result_folder}')\n",
    "\n",
    "for dataset in datasets:\n",
    "    \n",
    "    # load dataset\n",
    "    A, y = graph_util.load_dataset(dataset)\n",
    "    \n",
    "    \n",
    "    for model in embedding_methods:\n",
    "        start = time.time()\n",
    "        # do link prediction\n",
    "        if(exp[\"link_prediction\"]):\n",
    "            link_prediction_folder = result_folder + \"/link_prediction\"\n",
    "            evaluate_link_prediction.expLP(A,dataset,model,exp[\"link_pred_num_rounds\"],\n",
    "                                           link_prediction_folder, train_ratio=exp[\"link_pred_train_ratio\"], \n",
    "                                           edge_emb_method=exp[\"link_pred_edge_emb_method\"],train_epochs=exp[\"max_epochs\"],\n",
    "                                           eval_epochs=exp[\"link_pred_eval_every_n_steps\"], undirected=True)\n",
    "            \n",
    "        # do node classification\n",
    "        if(exp[\"node_classification\"]):\n",
    "            node_classification_folder = result_folder + \"/node_classification\"\n",
    "            evaluate_node_classification.expNC(A,y,dataset,model,exp[\"node_class_num_rounds\"],\n",
    "                                               node_classification_folder, train_ratio=exp[\"node_class_train_ratio\"],\n",
    "                \n",
    "                                               train_epochs=exp[\"max_epochs\"],eval_epochs=exp[\"node_class_eval_every_n_steps\"],undirected=True)\n",
    "        end = time.time()\n",
    "        print(f'Model evaluation took: {end-start} seconds')"
   ]
  },
  {
   "cell_type": "code",
   "execution_count": null,
   "metadata": {},
   "outputs": [],
   "source": []
  }
 ],
 "metadata": {
  "kernelspec": {
   "display_name": "Python 3",
   "language": "python",
   "name": "python3"
  },
  "language_info": {
   "codemirror_mode": {
    "name": "ipython",
    "version": 3
   },
   "file_extension": ".py",
   "mimetype": "text/x-python",
   "name": "python",
   "nbconvert_exporter": "python",
   "pygments_lexer": "ipython3",
   "version": "3.7.4"
  }
 },
 "nbformat": 4,
 "nbformat_minor": 2
}

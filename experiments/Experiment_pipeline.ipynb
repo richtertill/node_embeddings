{
 "cells": [
  {
   "cell_type": "code",
   "execution_count": 3,
   "metadata": {},
   "outputs": [
    {
     "name": "stdout",
     "output_type": "stream",
     "text": [
      "The autoreload extension is already loaded. To reload it, use:\n",
      "  %reload_ext autoreload\n"
     ]
    }
   ],
   "source": [
    "%load_ext autoreload\n",
    "%autoreload 2\n",
    "\n",
    "import sys\n",
    "sys.path.insert(0, '../')\n",
    "\n",
    "# import embedding methods\n",
    "from embedding.bernoulli import Bernoulli\n",
    "from embedding.KL import KL\n",
    "\n",
    "# import evaluation methods\n",
    "from evaluation import evaluate_link_prediction\n",
    "\n",
    "# import utils\n",
    "from utils import graph_util\n",
    "from utils import plot_util\n",
    "\n",
    "# visualization\n",
    "%matplotlib inline\n",
    "#sns.set_style('whitegrid')\n",
    "\n",
    "import warnings\n",
    "warnings.filterwarnings('ignore')"
   ]
  },
  {
   "cell_type": "markdown",
   "metadata": {},
   "source": [
    "## Experiment 1"
   ]
  },
  {
   "cell_type": "code",
   "execution_count": 4,
   "metadata": {},
   "outputs": [
    {
     "name": "stdout",
     "output_type": "stream",
     "text": [
      "The results of the current experiment are stored at experiments/results/2019_11_25_15_36\n"
     ]
    },
    {
     "ename": "AttributeError",
     "evalue": "module 'gust' has no attribute 'load_dataset'",
     "output_type": "error",
     "traceback": [
      "\u001b[0;31m---------------------------------------------------------------------------\u001b[0m",
      "\u001b[0;31mAttributeError\u001b[0m                            Traceback (most recent call last)",
      "\u001b[0;32m<ipython-input-4-6a81a5458d8c>\u001b[0m in \u001b[0;36m<module>\u001b[0;34m\u001b[0m\n\u001b[1;32m     28\u001b[0m \u001b[0;34m\u001b[0m\u001b[0m\n\u001b[1;32m     29\u001b[0m     \u001b[0;31m# load dataset\u001b[0m\u001b[0;34m\u001b[0m\u001b[0;34m\u001b[0m\u001b[0;34m\u001b[0m\u001b[0m\n\u001b[0;32m---> 30\u001b[0;31m     \u001b[0mA\u001b[0m\u001b[0;34m,\u001b[0m \u001b[0my\u001b[0m \u001b[0;34m=\u001b[0m \u001b[0mgraph_util\u001b[0m\u001b[0;34m.\u001b[0m\u001b[0mload_dataset\u001b[0m\u001b[0;34m(\u001b[0m\u001b[0mdataset\u001b[0m\u001b[0;34m)\u001b[0m\u001b[0;34m\u001b[0m\u001b[0;34m\u001b[0m\u001b[0m\n\u001b[0m\u001b[1;32m     31\u001b[0m \u001b[0;34m\u001b[0m\u001b[0m\n\u001b[1;32m     32\u001b[0m     \u001b[0;32mfor\u001b[0m \u001b[0membedding_method\u001b[0m \u001b[0;32min\u001b[0m \u001b[0membedding_methods\u001b[0m\u001b[0;34m:\u001b[0m\u001b[0;34m\u001b[0m\u001b[0;34m\u001b[0m\u001b[0m\n",
      "\u001b[0;32m/nfs/students/winter-term-2019/project_5/richter/project-5/utils/graph_util.py\u001b[0m in \u001b[0;36mload_dataset\u001b[0;34m(name)\u001b[0m\n\u001b[1;32m     11\u001b[0m \u001b[0;34m\u001b[0m\u001b[0m\n\u001b[1;32m     12\u001b[0m \u001b[0;32mdef\u001b[0m \u001b[0mload_dataset\u001b[0m\u001b[0;34m(\u001b[0m\u001b[0mname\u001b[0m\u001b[0;34m=\u001b[0m\u001b[0;34m'cora'\u001b[0m\u001b[0;34m)\u001b[0m\u001b[0;34m:\u001b[0m\u001b[0;34m\u001b[0m\u001b[0;34m\u001b[0m\u001b[0m\n\u001b[0;32m---> 13\u001b[0;31m     \u001b[0mA\u001b[0m\u001b[0;34m,\u001b[0m \u001b[0mX\u001b[0m\u001b[0;34m,\u001b[0m \u001b[0m_\u001b[0m\u001b[0;34m,\u001b[0m \u001b[0my\u001b[0m \u001b[0;34m=\u001b[0m \u001b[0mgust\u001b[0m\u001b[0;34m.\u001b[0m\u001b[0mload_dataset\u001b[0m\u001b[0;34m(\u001b[0m\u001b[0;34m'cora'\u001b[0m\u001b[0;34m)\u001b[0m\u001b[0;34m.\u001b[0m\u001b[0mstandardize\u001b[0m\u001b[0;34m(\u001b[0m\u001b[0;34m)\u001b[0m\u001b[0;34m.\u001b[0m\u001b[0munpack\u001b[0m\u001b[0;34m(\u001b[0m\u001b[0;34m)\u001b[0m\u001b[0;34m\u001b[0m\u001b[0;34m\u001b[0m\u001b[0m\n\u001b[0m\u001b[1;32m     14\u001b[0m     \u001b[0;31m# A - adjacency matrix\u001b[0m\u001b[0;34m\u001b[0m\u001b[0;34m\u001b[0m\u001b[0;34m\u001b[0m\u001b[0m\n\u001b[1;32m     15\u001b[0m     \u001b[0;31m# X - attribute matrix - not needed\u001b[0m\u001b[0;34m\u001b[0m\u001b[0;34m\u001b[0m\u001b[0;34m\u001b[0m\u001b[0m\n",
      "\u001b[0;31mAttributeError\u001b[0m: module 'gust' has no attribute 'load_dataset'"
     ]
    }
   ],
   "source": [
    "# Experiment 1\n",
    "\n",
    "# create folder to store results of experiment\n",
    "result_folder = plot_util.create_experiment_folder()\n",
    "print(f'The results of the current experiment are stored at experiments/{result_folder}')\n",
    "\n",
    "exp = {\n",
    "    \"emb_dim\": 64,\n",
    "    \"max_epoch\": 500,\n",
    "    \"learning_rate\": 1e-2, #Adam\n",
    "    \"weight_decay\": 1e-7,\n",
    "    \"number_rounds_link_prediction\": 3\n",
    "}\n",
    "\n",
    "\n",
    "# pick datasets\n",
    "datasets = [\"conra\", \"hvr\"]\n",
    "\n",
    "# initialize embedding methods\n",
    "b = Bernoulli(embedding_dimension=exp[\"emb_dim\"], distance_meassure='sigmoid', max_epoch=exp[\"max_epoch\"])\n",
    "kl = KL(embedding_dimension=exp[\"emb_dim\"], distance_meassure='sigmoid',max_epoch=exp[\"max_epoch\"])\n",
    "\n",
    "embedding_methods = [b, kl]\n",
    "\n",
    "# save experiment readme summarizing the experiment setup\n",
    "\n",
    "for dataset in datasets:\n",
    "    \n",
    "    # load dataset\n",
    "    A, y = graph_util.load_dataset(dataset)\n",
    "    \n",
    "    for embedding_method in embedding_methods:\n",
    "        \n",
    "        # do link prediction\n",
    "        link_prediction_folder = result_folder + \"/link_prediction\"\n",
    "        evaluate_link_prediction.expLP(A,dataset,embedding_method,exp[\"number_rounds_link_prediction\"],link_prediction_folder, train_ratio=0.8,undirected=True)\n",
    "        \n",
    "        # do node classification\n",
    "        \n",
    "        # do graph reconstruction\n",
    "        \n",
    "        # do down projection and visualization"
   ]
  },
  {
   "cell_type": "code",
   "execution_count": null,
   "metadata": {},
   "outputs": [],
   "source": []
  }
 ],
 "metadata": {
  "kernelspec": {
   "display_name": "Python 3",
   "language": "python",
   "name": "python3"
  },
  "language_info": {
   "codemirror_mode": {
    "name": "ipython",
    "version": 3
   },
   "file_extension": ".py",
   "mimetype": "text/x-python",
   "name": "python",
   "nbconvert_exporter": "python",
   "pygments_lexer": "ipython3",
   "version": "3.7.3"
  }
 },
 "nbformat": 4,
 "nbformat_minor": 2
}

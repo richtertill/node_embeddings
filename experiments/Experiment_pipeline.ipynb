{
 "cells": [
  {
   "cell_type": "code",
   "execution_count": 15,
   "metadata": {},
   "outputs": [
    {
     "name": "stdout",
     "output_type": "stream",
     "text": [
      "The autoreload extension is already loaded. To reload it, use:\n",
      "  %reload_ext autoreload\n"
     ]
    }
   ],
   "source": [
    "%load_ext autoreload\n",
    "%autoreload 2\n",
    "\n",
    "import sys\n",
    "sys.path.insert(0, '../')\n",
    "\n",
    "# import embedding methods\n",
    "from embedding.bernoulli import Bernoulli\n",
    "from embedding.KL import KL\n",
    "\n",
    "# import evaluation methods\n",
    "from evaluation import evaluate_link_prediction\n",
    "\n",
    "# import utils\n",
    "from utils import graph_util\n",
    "from utils import plot_util\n",
    "\n",
    "# visualization\n",
    "%matplotlib inline\n",
    "#sns.set_style('whitegrid')\n",
    "\n",
    "import warnings\n",
    "warnings.filterwarnings('ignore')"
   ]
  },
  {
   "cell_type": "markdown",
   "metadata": {},
   "source": [
    "## Experiment 1"
   ]
  },
  {
   "cell_type": "code",
   "execution_count": 16,
   "metadata": {},
   "outputs": [
    {
     "name": "stdout",
     "output_type": "stream",
     "text": [
      "The results of the current experiment are stored at experiments/results/2019_11_25_11_52\n",
      "\tLink prediction evaluation has started...\n",
      "\tLink prediction evaluation has started...\n"
     ]
    }
   ],
   "source": [
    "# Experiment 1\n",
    "\n",
    "exp = {\n",
    "    \"emb_dim\": 64,\n",
    "    \"max_epoch\": 500,\n",
    "    \"learning_rate\": 1e-2, #Adam\n",
    "    \"weight_decay\": 1e-7,\n",
    "    \"link_prediction\": True,\n",
    "    \"number_rounds_link_prediction\": 3,\n",
    "    \"link_prediction_train_ratio\": 0.8,\n",
    "    \"node_classification\": False,\n",
    "    \"number_rounds_node_classification\": 3,\n",
    "    \"node_classification_train_ratio\": 0.8\n",
    "}\n",
    "\n",
    "\n",
    "# pick datasets\n",
    "datasets = [\"conra\", \"hvr\"]\n",
    "\n",
    "# initialize embedding methods\n",
    "b = Bernoulli(embedding_dimension=exp[\"emb_dim\"], distance_meassure='sigmoid', max_epoch=exp[\"max_epoch\"])\n",
    "kl = KL(embedding_dimension=exp[\"emb_dim\"], distance_meassure='sigmoid',max_epoch=exp[\"max_epoch\"])\n",
    "\n",
    "embedding_methods = [b]\n",
    "\n",
    "# setup folders to store experiment setup summary and results\n",
    "result_folder = plot_util.setup_folders_and_summary_files(exp, datasets, embedding_methods)\n",
    "print(f'The results of the current experiment are stored at experiments/{result_folder}')\n",
    "\n",
    "for dataset in datasets:\n",
    "    \n",
    "    # load dataset\n",
    "    A, y = graph_util.load_dataset(dataset)\n",
    "    \n",
    "    for embedding_method in embedding_methods:\n",
    "        \n",
    "        # do link prediction\n",
    "        link_prediction_folder = result_folder + \"/link_prediction\"\n",
    "        evaluate_link_prediction.expLP(A,dataset,embedding_method,exp[\"number_rounds_link_prediction\"],link_prediction_folder, train_ratio=exp[\"link_prediction_train_ratio\"],undirected=True)\n",
    "        \n",
    "        # do node classification\n",
    "#         node_classification_folder = result_folder + \"/node_classification\"\n",
    "#         evaluate_node_classification.expNC(A,dataset,embedding_method,exp[\"number_rounds_node_classification\"],node_classification_folder, train_ratio=exp[\"node_classification_train_ratio\"],undirected=True)"
   ]
  },
  {
   "cell_type": "code",
   "execution_count": null,
   "metadata": {},
   "outputs": [],
   "source": []
  }
 ],
 "metadata": {
  "kernelspec": {
   "display_name": "Python 3",
   "language": "python",
   "name": "python3"
  },
  "language_info": {
   "codemirror_mode": {
    "name": "ipython",
    "version": 3
   },
   "file_extension": ".py",
   "mimetype": "text/x-python",
   "name": "python",
   "nbconvert_exporter": "python",
   "pygments_lexer": "ipython3",
   "version": "3.7.4"
  }
 },
 "nbformat": 4,
 "nbformat_minor": 2
}

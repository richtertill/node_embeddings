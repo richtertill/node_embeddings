{
 "cells": [
  {
   "cell_type": "code",
   "execution_count": 17,
   "metadata": {
    "scrolled": true
   },
   "outputs": [
    {
     "name": "stdout",
     "output_type": "stream",
     "text": [
      "The autoreload extension is already loaded. To reload it, use:\n",
      "  %reload_ext autoreload\n"
     ]
    }
   ],
   "source": [
    "%load_ext autoreload\n",
    "%autoreload 2\n",
    "import gust  # library for loading graph data\n",
    "\n",
    "import matplotlib.pyplot as plt\n",
    "import numpy as np\n",
    "import seaborn as sns\n",
    "import scipy.sparse as sp\n",
    "import torch\n",
    "import torch.nn as nn\n",
    "import torch.nn.functional as F\n",
    "\n",
    "import torch.distributions as dist\n",
    "import time\n",
    "\n",
    "torch.set_default_tensor_type('torch.cuda.FloatTensor')\n",
    "%matplotlib inline\n",
    "sns.set_style('whitegrid')"
   ]
  },
  {
   "cell_type": "code",
   "execution_count": 18,
   "metadata": {},
   "outputs": [
    {
     "name": "stdout",
     "output_type": "stream",
     "text": [
      "The autoreload extension is already loaded. To reload it, use:\n",
      "  %reload_ext autoreload\n"
     ]
    }
   ],
   "source": [
    "# Load the dataset using `gust` library\n",
    "# graph.standardize() makes the graph unweighted, undirected and selects\n",
    "# the largest connected component\n",
    "# graph.unpack() returns the necessary vectors / matrices\n",
    "\n",
    "%load_ext autoreload\n",
    "%autoreload 2\n",
    "\n",
    "import sys\n",
    "sys.path.insert(0, '../')\n",
    "from utils import graph_util\n",
    "A,  y = graph_util.load_dataset('cora')\n",
    "\n",
    "\n",
    "# A - adjacency matrix \n",
    "# X - attribute matrix - not needed\n",
    "# y - node labels\n",
    "\n",
    "if (A != A.T).sum() > 0:\n",
    "    raise RuntimeError(\"The graph must be undirected!\")\n",
    "\n",
    "if (A.data != 1).sum() > 0:\n",
    "    raise RuntimeError(\"The graph must be unweighted!\")"
   ]
  },
  {
   "cell_type": "code",
   "execution_count": null,
   "metadata": {},
   "outputs": [],
   "source": []
  },
  {
   "cell_type": "code",
   "execution_count": 4,
   "metadata": {},
   "outputs": [
    {
     "name": "stdout",
     "output_type": "stream",
     "text": [
      "torch.Size([2485, 2485])\n"
     ]
    }
   ],
   "source": [
    "num_nodes = A.shape[0]\n",
    "num_edges = A.sum()\n",
    "\n",
    "# Convert adjacency matrix to a CUDA Tensor\n",
    "adj = torch.FloatTensor(A.toarray()).cuda()\n",
    "\n",
    "adj.nonzero()\n",
    "print(adj.shape)"
   ]
  },
  {
   "cell_type": "code",
   "execution_count": 19,
   "metadata": {},
   "outputs": [],
   "source": [
    "torch.manual_seed(123)\n",
    "# Define the embedding matrix\n",
    "embedding_dim = 64\n",
    "emb = nn.Parameter(torch.empty(num_nodes, embedding_dim).normal_(0.0, 1.0))\n",
    "\n",
    "# Initialize the bias\n",
    "# The bias is initialized in such a way that if the dot product between two embedding vectors is 0 \n",
    "# (i.e. z_i^T z_j = 0), then their connection probability is sigmoid(b) equals to the \n",
    "# background edge probability in the graph. This significantly speeds up training\n",
    "edge_proba = num_edges / (num_nodes**2 - num_nodes)\n",
    "bias_init = np.log(edge_proba / (1 - edge_proba))\n",
    "b = nn.Parameter(torch.Tensor([bias_init]))\n",
    "\n",
    "# Regularize the embeddings but don't regularize the bias\n",
    "# The value of weight_decay has a significant effect on the performance of the model (don't set too high!)\n",
    "opt = torch.optim.Adam([\n",
    "    {'params': [emb], 'weight_decay': 1e-7},\n",
    "    {'params': [b]}],\n",
    "    lr=1e-2)"
   ]
  },
  {
   "cell_type": "code",
   "execution_count": 20,
   "metadata": {},
   "outputs": [],
   "source": [
    "\n",
    "def compute_loss_gaussian(adj, emb, b=0.0):\n",
    "    eps=1e-5\n",
    "    N = adj.shape[0]\n",
    "    d=64\n",
    "    e1, e2 = adj.nonzero()\n",
    "    pdist = ((emb[:, None] - emb[None, :]).pow(2.0).sum(-1) + eps).sqrt()\n",
    "    neg_term = torch.log(-torch.expm1(-pdist) + 1e-5)\n",
    "    neg_term[np.diag_indices(N)] = 0.0\n",
    "    pos_term = -pdist[e1, e2]\n",
    "    neg_term[e1, e2] = 0.0\n",
    "    return -(pos_term.sum() + neg_term.sum()) / emb.shape[0]**2"
   ]
  },
  {
   "cell_type": "code",
   "execution_count": 6,
   "metadata": {},
   "outputs": [],
   "source": [
    "# There are many ways to compute the loss / negative log-likelihood of the model\n",
    "def compute_loss_v1(adj, emb, b=0.0): \n",
    "    \"\"\"Compute the negative log-likelihood of the Bernoulli model.\"\"\"\n",
    "    logits = emb @ emb.t() + b\n",
    "    loss = F.binary_cross_entropy_with_logits(logits, adj, reduction='none')\n",
    "    # Since we consider graphs without self-loops, we don't want to compute loss\n",
    "    # for the diagonal entries of the adjacency matrix.\n",
    "    # This will kill the gradients on the diagonal.\n",
    "    loss[np.diag_indices(adj.shape[0])] = 0.0\n",
    "    return loss.mean()\n",
    "\n",
    "\n",
    "\n",
    "# Approach 1: Naive apporach\n",
    "def compute_loss_d1(adj, emb, b=0.0): \n",
    "    \"\"\"Compute the rdf distance of the Bernoulli model.\"\"\"\n",
    "    # Initialization\n",
    "    start_time = time.time()\n",
    "    N,d=emb.shape\n",
    "    squared_euclidian = torch.zeros(N,N).cuda()\n",
    "    gamma= 0.1\n",
    "    end_time= time.time()\n",
    "    duration= end_time -start_time\n",
    "    #print(f' Time for initialization = {duration:.5f}')\n",
    "    # Compute squared euclidian\n",
    "    start_time = time.time()\n",
    "    for index, embedding in enumerate(emb):\n",
    "        sub =  embedding-emb + 10e-9\n",
    "        squared_euclidian[index,:]= torch.sum(torch.pow(sub,2),1)\n",
    "    end_time= time.time()\n",
    "    duration= end_time -start_time\n",
    "    #print(f' Time for euclidian = {duration:.5f}')\n",
    "    # Compute exponentianl\n",
    "    start_time = time.time()\n",
    "    radial_exp = torch.exp (-gamma * torch.sqrt(squared_euclidian))\n",
    "    loss = F.binary_cross_entropy(radial_exp, adj, reduction='none')\n",
    "    loss[np.diag_indices(adj.shape[0])] = 0.0\n",
    "    end_time= time.time()\n",
    "    duration= end_time -start_time\n",
    "    #print(f' Time for loss  = {duration:.5f}')\n",
    "    return loss.mean()\n",
    "\n",
    "\n",
    "\n",
    "\n",
    "def compute_degree_matrix(adj_np):\n",
    "    degree= torch.from_numpy(adj_np.sum(axis=1))\n",
    "    return degree\n",
    "    \n",
    "def compute_transition(adj_gpu,adj_np):\n",
    "    degree= compute_degree_matrix(adj_np)\n",
    "    inv_degree=torch.diagflat(1/degree).cuda()\n",
    "\n",
    "    P = inv_degree.mm(adj_gpu) \n",
    "    return P\n",
    "\n",
    "\n",
    "\n",
    "def compute_ppr(adj_gpu, adj_np, dim, alpha = 0.1 ):\n",
    "    term_2 = (1-alpha)*compute_transition(adj_gpu,adj_np)\n",
    "    term_1 = torch.eye(dim,device='cuda')\n",
    "    matrix = term_1-term_2\n",
    "    P = alpha*torch.inverse(matrix)\n",
    "    return P\n",
    "\n",
    "\n",
    "def compute_spt(adj_gpu, adj_np, T = 10 ):\n",
    "    matrix = compute_transition(adj_gpu,adj_np)\n",
    "    P = torch.zeros_like(matrix)\n",
    "    for i in range(1,5):\n",
    "        P = P + matrix.pow(i)\n",
    "    return P\n",
    "\n",
    "def compute_loss_KL(adj_np, emb, method, b=0.0):\n",
    "    N,D=adj_np.shape\n",
    "    adj_gpu = torch.FloatTensor(adj_np.toarray()).cuda()\n",
    "    if method=='transition':\n",
    "        sim = compute_transition(adj_gpu,adj_np)\n",
    "    if method=='ppr':\n",
    "        sim = compute_ppr(adj_gpu,adj_np,N)\n",
    "    if method=='spt':\n",
    "        sim = compute_spt(adj_gpu,adj_np)\n",
    "    loss = -(sim*torch.log( 10e-9+ F.softmax(emb.mm(emb.t() ),dim=1,dtype=torch.float)))\n",
    "    return loss.mean()\n",
    "\n",
    "\n",
    "\n",
    "\n",
    "\n",
    "\n",
    "# In general, it's very important to compute all the losses in a numerically stable way\n",
    "# (e.g. using the log-sum-exp trick) or use existing library functions"
   ]
  },
  {
   "cell_type": "code",
   "execution_count": 21,
   "metadata": {},
   "outputs": [
    {
     "name": "stdout",
     "output_type": "stream",
     "text": [
      "Epoch    0, loss = 0.01843\n",
      "Epoch  250, loss = 0.00528\n",
      "Epoch  500, loss = 0.00463\n",
      "Epoch  750, loss = 0.00458\n",
      "Epoch 1000, loss = 0.00456\n",
      "Epoch 1250, loss = 0.00455\n",
      "Epoch 1500, loss = 0.00455\n",
      "Epoch 1750, loss = 0.00455\n"
     ]
    }
   ],
   "source": [
    "max_epochs = 2000\n",
    "display_step = 250\n",
    "\n",
    "\n",
    "compute_loss =  compute_loss_gaussian\n",
    "\n",
    "for epoch in range(max_epochs):\n",
    "    opt.zero_grad()\n",
    "    loss = compute_loss(A, emb, b)\n",
    "    loss.backward()\n",
    "    opt.step()\n",
    "    # Training loss is printed every display_step epochs\n",
    "    if epoch % display_step == 0:\n",
    "        print(f'Epoch {epoch:4d}, loss = {loss.item():.5f}')"
   ]
  },
  {
   "cell_type": "code",
   "execution_count": 8,
   "metadata": {},
   "outputs": [
    {
     "name": "stdout",
     "output_type": "stream",
     "text": [
      "Epoch    0, loss = 0.00636\n",
      "Epoch  250, loss = 0.00636\n"
     ]
    }
   ],
   "source": [
    "max_epochs = 500\n",
    "display_step = 250\n",
    "\n",
    "\n",
    "compute_loss = compute_loss_KL\n",
    "\n",
    "for epoch in range(max_epochs):\n",
    "    opt.zero_grad()\n",
    "    loss = compute_loss(A, emb, 'ppr', b)\n",
    "    loss.backward()\n",
    "    opt.step()\n",
    "    # Training loss is printed every display_step epochs\n",
    "    if epoch % display_step == 0:\n",
    "        print(f'Epoch {epoch:4d}, loss = {loss.item():.5f}')\n",
    "        \n",
    "        \n",
    "cora_KL = emb"
   ]
  },
  {
   "cell_type": "code",
   "execution_count": 9,
   "metadata": {},
   "outputs": [],
   "source": [
    "# We need to transform 64-dimensional embedding into 2d for visualization\n",
    "# For this we can either use t-SNE from scikit-learn or UMAP\n",
    "# umap package can be installed with `pip install umap`\n",
    "\n",
    "# from sklearn.manifold import TSNE\n",
    "# from umap import UMAP as TSNE\n",
    "from sklearn.manifold import TSNE\n",
    "\n",
    "def visualize(emb, y):\n",
    "    emb = emb.cpu().detach().numpy()\n",
    "    tsne = TSNE()\n",
    "    vis = tsne.fit_transform(emb)\n",
    "    plt.figure(figsize=[10, 8])\n",
    "    plt.scatter(vis[:, 0], vis[:, 1], c=palette[y], s=20, alpha=0.8)\n",
    "    \n",
    "# Alternative to the default seaborn palette\n",
    "palette = np.array(sns.color_palette('muted', n_colors=len(np.unique(y))))"
   ]
  },
  {
   "cell_type": "code",
   "execution_count": null,
   "metadata": {
    "scrolled": false
   },
   "outputs": [],
   "source": [
    "visualize(emb, y)"
   ]
  },
  {
   "cell_type": "code",
   "execution_count": null,
   "metadata": {},
   "outputs": [],
   "source": [
    "from sklearn.neighbors import KNeighborsClassifier\n",
    "from sklearn.svm import SVC\n",
    "from sklearn.tree import DecisionTreeClassifier\n",
    "from sklearn.model_selection import train_test_split\n",
    "\n",
    "split_ratio = 0.2\n",
    "\n",
    "label=y\n",
    "\n",
    "h_datasets = ['cora sigmoid', 'cora KL'] \n",
    "\n",
    "datasets = [cora_sigmoid, cora_KL]\n",
    "\n",
    "h_classifiers = [\"Decision Tree\",\"Nearest Neighbors\", \"Linear SVM\"\n",
    "         ]\n",
    "\n",
    "classifiers = [ \n",
    "    DecisionTreeClassifier(),\n",
    "    KNeighborsClassifier(3),\n",
    "    SVC(kernel=\"linear\")]\n",
    "\n",
    "\n",
    "\n",
    "for i, data in enumerate(datasets):\n",
    "    features = data.cpu().detach().numpy()\n",
    "    X_train, X_test, Y_train, Y_test = train_test_split(features, label, test_size= split_ratio)\n",
    "    for j, model in enumerate(classifiers):\n",
    "        model.fit(X_train, Y_train)\n",
    "        score = model.score(X_test, Y_test)\n",
    "        print ( h_datasets[i], h_classifiers[j])\n",
    "        print(score)"
   ]
  },
  {
   "cell_type": "code",
   "execution_count": null,
   "metadata": {},
   "outputs": [],
   "source": [
    "degree= compute_degree_matrix(A)\n",
    "inv_degree=torch.diagflat(1/degree).cuda()\n",
    "    \n",
    "P = inv_degree.mm(adj) \n",
    "print(inv_degree)\n",
    "print(adj)"
   ]
  },
  {
   "cell_type": "code",
   "execution_count": 14,
   "metadata": {},
   "outputs": [
    {
     "name": "stdout",
     "output_type": "stream",
     "text": [
      "Mutual Information: 0.317\n",
      "Normalized Mutual Information: 0.169\n",
      "Adjusted Mutual Information: 0.162\n"
     ]
    },
    {
     "name": "stderr",
     "output_type": "stream",
     "text": [
      "/nfs/students/winter-term-2019/project_5/cziakas/miniconda3/lib/python3.7/site-packages/sklearn/metrics/cluster/supervised.py:859: FutureWarning: The behavior of NMI will change in version 0.22. To match the behavior of 'v_measure_score', NMI will use average_method='arithmetic' by default.\n",
      "  FutureWarning)\n",
      "/nfs/students/winter-term-2019/project_5/cziakas/miniconda3/lib/python3.7/site-packages/sklearn/metrics/cluster/supervised.py:746: FutureWarning: The behavior of AMI will change in version 0.22. To match the behavior of 'v_measure_score', AMI will use average_method='arithmetic' by default.\n",
      "  FutureWarning)\n"
     ]
    }
   ],
   "source": [
    "from sklearn.cluster import KMeans\n",
    "from sklearn.metrics import mutual_info_score\n",
    "from sklearn.metrics import normalized_mutual_info_score\n",
    "from sklearn.metrics import adjusted_mutual_info_score\n",
    "\n",
    "if type(emb) is not np.ndarray: \n",
    "    emb = emb.cpu().detach().numpy()\n",
    "\n",
    "X, labels_true = emb, y\n",
    "n_cluster = len(set(labels_true))\n",
    "init = np.zeros((n_cluster,embedding_dim))\n",
    "for i in range(n_cluster):\n",
    "    init[i,:] = X[np.where(labels_true==i)].mean(axis=0)\n",
    "kmeans =  KMeans(n_clusters=n_cluster, random_state=0, init= 'k-means++').fit(X)\n",
    "\n",
    "labels = kmeans.labels_\n",
    "\n",
    "print(\"Mutual Information: %0.3f\"\n",
    "      % mutual_info_score(labels_true, labels))\n",
    "print(\"Normalized Mutual Information: %0.3f\"\n",
    "      % normalized_mutual_info_score(labels_true, labels))\n",
    "print(\"Adjusted Mutual Information: %0.3f\"\n",
    "      % adjusted_mutual_info_score(labels_true, labels))"
   ]
  },
  {
   "cell_type": "code",
   "execution_count": null,
   "metadata": {},
   "outputs": [],
   "source": [
    "from sklearn.manifold import TSNE\n",
    "palette = np.array(sns.color_palette('muted', n_colors=len(np.unique(y))))\n",
    "tsne = TSNE()\n",
    "vis = tsne.fit_transform(emb)"
   ]
  },
  {
   "cell_type": "code",
   "execution_count": null,
   "metadata": {},
   "outputs": [],
   "source": [
    "plt.figure(figsize=[10, 8])\n",
    "plt.scatter(vis[:, 0], vis[:, 1], c=palette[labels], s=20, alpha=0.8)"
   ]
  },
  {
   "cell_type": "code",
   "execution_count": null,
   "metadata": {},
   "outputs": [],
   "source": [
    "plt.figure(figsize=[10, 8])\n",
    "plt.scatter(vis[:, 0], vis[:, 1], c=palette[labels_true], s=20, alpha=0.8)"
   ]
  },
  {
   "cell_type": "markdown",
   "metadata": {},
   "source": [
    "# Models that need to be implemented\n",
    "## 1. Bernoulli models\n",
    "Learn embeddings by maximizing the objective \n",
    "$$\\max_{Z \\in \\mathbb{R}^{N \\times D}} \\log p(A | Z)$$\n",
    "where\n",
    "$$p(A | Z) = \\prod_{i < j} Bernoulli(A_{ij}| f(z_i, z_j))$$\n",
    "\n",
    "- Sigmoid model\n",
    "$$f(z_i, z_j) = \\sigma(z_i^T z_j + b)$$\n",
    "\n",
    "$\\;$\n",
    "- Distance-based model #1\n",
    "$$f(z_i, z_j) = \\exp(-\\gamma||z_i^T - z_j||)$$\n",
    "\n",
    "$\\;$\n",
    "- Distance-based model #2 (https://arxiv.org/pdf/1905.13177.pdf, Equation 6)\n",
    "$$f(z_i, z_j) = \\sigma(C(1 - ||z_i^T - z_j||))$$\n",
    "they use $C = 10$ in the paper."
   ]
  },
  {
   "cell_type": "markdown",
   "metadata": {},
   "source": [
    "## 2. Categorical cross-entropy models\n",
    "Learn embeddings by optimizing the objective \n",
    "$$\\min_{Z \\in \\mathbb{R}^{N \\times D}} \\mathbb{KL}(M || \\operatorname{softmax}(Z Z^T))$$\n",
    "note that we don't need to add a bias term here since $\\operatorname{softmax}(x) = \\operatorname{softmax}(x + c)$ for any vector $x$ and constant $c$.\n",
    "\n",
    "Choices for $M$:\n",
    "- Transition matrix $M = P = D^{-1}A$, where $D_{ii} = \\sum_{ij} A_{ij}$, $D_{ij} = 0$ if $i \\ne j$.\n",
    "- Personalized PageRank matrix $M = (I - \\alpha P)^{-1}$(https://arxiv.org/pdf/1803.04742.pdf)\n",
    "- Finite-step transition matrix (i.e. average of powers of the transition matrix) $\\frac{1}{T} \\sum_{t=1}^{T} P^{t}$ (https://arxiv.org/pdf/1702.05764.pdf). This is equivalent to the popular DeepWalk method (https://arxiv.org/abs/1403.6652)"
   ]
  },
  {
   "cell_type": "markdown",
   "metadata": {},
   "source": [
    "## Different model variants for (1) and (2)\n",
    "\n",
    "You should consider two options for modeling the embeddings:\n",
    " - Learning $Z \\in \\mathbb{R}^{N \\times D}$, get a \"score\" as $z_i^T z_j$\n",
    " - Learning $Z \\in \\mathbb{R}^{N \\times D}$ and $W \\in \\mathbb{R}^{D \\times D}$, get a \"score\" as $z_i^T W z_j$\n",
    " \n",
    "The first option might not be capable to model networks with heterophily, but the second option requires learning more parameters. You should implement both version and see which works better."
   ]
  },
  {
   "cell_type": "markdown",
   "metadata": {},
   "source": [
    "## 3. Methods based on SVD / Matrix factorization\n",
    "You obtain embeddings in these methods by performing SVD / eigendecomposition (no need to perform gradient descent here).\n",
    "\n",
    "- NetMF - see Algorithm 3 & 4 in (https://arxiv.org/pdf/1710.02971.pdf)\n",
    "- Spectral clustering - see MMDS lecture"
   ]
  },
  {
   "cell_type": "code",
   "execution_count": null,
   "metadata": {},
   "outputs": [],
   "source": [
    "# The error for the second approach\n",
    "compute_loss = compute_loss_d2\n",
    "max_epochs = 5000\n",
    "display_step = 250\n",
    "\n",
    "for epoch in range(max_epochs):\n",
    "    opt.zero_grad()\n",
    "    loss = compute_loss(adj, emb, b)\n",
    "    loss.backward()\n",
    "    opt.step()\n",
    "    # Training loss is printed every display_step epochs\n",
    "    if epoch % display_step == 0:\n",
    "        print(f'Epoch {epoch:4d}, loss = {loss.item():.5f}')"
   ]
  },
  {
   "cell_type": "code",
   "execution_count": null,
   "metadata": {},
   "outputs": [],
   "source": [
    "# The error for the third approach\n",
    "compute_loss = compute_loss_d3\n",
    "max_epochs = 5000\n",
    "display_step = 250\n",
    "\n",
    "for epoch in range(max_epochs):\n",
    "    opt.zero_grad()\n",
    "    loss = compute_loss(adj, emb, b)\n",
    "    loss.backward()\n",
    "    opt.step()\n",
    "    # Training loss is printed every display_step epochs\n",
    "    if epoch % display_step == 0:\n",
    "        print(f'Epoch {epoch:4d}, loss = {loss.item():.5f}')"
   ]
  },
  {
   "cell_type": "code",
   "execution_count": null,
   "metadata": {},
   "outputs": [],
   "source": [
    "# The error for the fourth approach\n",
    "compute_loss = compute_loss_d4\n",
    "max_epochs = 5000\n",
    "display_step = 250\n",
    "\n",
    "for epoch in range(max_epochs):\n",
    "    opt.zero_grad()\n",
    "    loss = compute_loss(adj, emb, b)\n",
    "    loss.backward()\n",
    "    opt.step()\n",
    "    # Training loss is printed every display_step epochs\n",
    "    if epoch % display_step == 0:\n",
    "        print(f'Epoch {epoch:4d}, loss = {loss.item():.5f}')"
   ]
  },
  {
   "cell_type": "code",
   "execution_count": null,
   "metadata": {},
   "outputs": [],
   "source": [
    "# The second apporach with the squareform function \n",
    "from scipy.spatial.distance import squareform\n",
    "start_time = time.time()\n",
    "N=1000\n",
    "emb= torch.randn(N, N).cuda()\n",
    "euclidian= torch.nn.functional.pdist(emb, p=2)\n",
    "euclidian_np= torch.from_numpy(euclidian.cpu().detach().numpy())\n",
    "matrix_euclidian_np = squareform(euclidian_np)\n",
    "matrix_euclidian = torch.from_numpy(matrix_euclidian_np).cuda()\n",
    "end_time= time.time()\n",
    "duration= end_time -start_time\n",
    "duration"
   ]
  },
  {
   "cell_type": "code",
   "execution_count": null,
   "metadata": {},
   "outputs": [],
   "source": [
    "# The third apporach\n",
    "start_time = time.time()\n",
    "N=1000\n",
    "emb= torch.randn(N, N).cuda()\n",
    "euclidian= torch.nn.functional.pdist(emb, p=2)\n",
    "start= 0\n",
    "for i in range(N):\n",
    "    end = start + ( N - i -1)\n",
    "    elem = len(euclidian[start:end])\n",
    "    #print(f' start = {start:d}, end = {end:d}, elements = {elem:d} ')\n",
    "    matrix_euclidian[i,i+1:] = euclidian[start:end] \n",
    "    matrix_euclidian[i+1:,i] = euclidian[start:end] \n",
    "    start += (N-i-1) \n",
    "#print(matrix_euclidian)    \n",
    "end_time= time.time()\n",
    "end_time -start_time"
   ]
  },
  {
   "cell_type": "code",
   "execution_count": null,
   "metadata": {},
   "outputs": [],
   "source": [
    "from sklearn.neighbors import KNeighborsClassifier\n",
    "from sklearn.svm import SVC\n",
    "from sklearn.tree import DecisionTreeClassifier\n",
    "from sklearn.model_selection import train_test_split\n",
    "\n",
    "split_ratio = 0.2\n",
    "\n",
    "label=y\n",
    "\n",
    "\n",
    "n_iterations = 10\n",
    "n_models =2\n",
    "total_scores = []\n",
    "\n",
    "if type(emb) is not np.ndarray: \n",
    "    emb = emb.cpu().detach().numpy()\n",
    "for i in range(n_models):\n",
    "    score_model= np.zeros(n_iterations)\n",
    "    for i in range(n_iterations):\n",
    "        features = emb\n",
    "        X_train, X_test, Y_train, Y_test = train_test_split(features, label, test_size= split_ratio, random_state=i) \n",
    "        model = KNeighborsClassifier(3).fit(X_train, Y_train)\n",
    "        score = model.score(X_test, Y_test)\n",
    "        score_model[i]= score\n",
    "    total_scores.append(score_model)\n",
    "\n",
    "sns.boxplot(data=total_scores)"
   ]
  },
  {
   "cell_type": "code",
   "execution_count": 37,
   "metadata": {},
   "outputs": [
    {
     "name": "stdout",
     "output_type": "stream",
     "text": [
      "0.6086325645446777\n",
      "0.5576115846633911\n",
      "0.5108457803726196\n",
      "0.46824175119400024\n",
      "0.42959165573120117\n",
      "0.3946220874786377\n",
      "0.36303362250328064\n",
      "0.33452412486076355\n",
      "0.3088017404079437\n",
      "0.2855921685695648\n",
      "0.2646418511867523\n",
      "0.2457190901041031\n",
      "0.22861388325691223\n",
      "0.21313689649105072\n",
      "0.19911819696426392\n",
      "0.18640556931495667\n",
      "0.1748630553483963\n",
      "0.16436928510665894\n",
      "0.15481609106063843\n",
      "0.14610697329044342\n",
      "0.13815614581108093\n",
      "0.13088689744472504\n",
      "0.12423110008239746\n",
      "0.11812787503004074\n",
      "0.11252296715974808\n",
      "0.10736792534589767\n",
      "0.1026194840669632\n",
      "0.09823895245790482\n",
      "0.09419173002243042\n",
      "0.09044681489467621\n",
      "0.08697643131017685\n",
      "0.08375564962625504\n",
      "0.08076207339763641\n",
      "0.07797560095787048\n",
      "0.07537809759378433\n",
      "0.07295326143503189\n",
      "0.07068636268377304\n",
      "0.06856413185596466\n",
      "0.06657455861568451\n",
      "0.06470676511526108\n",
      "0.06295093148946762\n",
      "0.061298128217458725\n",
      "0.05974027141928673\n",
      "0.058269988745450974\n",
      "0.056880608201026917\n",
      "0.055566031485795975\n",
      "0.05432070419192314\n",
      "0.053139578551054\n",
      "0.05201801657676697\n",
      "0.05095179006457329\n",
      "0.04993704333901405\n",
      "0.04897023364901543\n",
      "0.048048101365566254\n",
      "0.04716767743229866\n",
      "0.04632621258497238\n",
      "0.04552121087908745\n",
      "0.044750336557626724\n",
      "0.04401146247982979\n",
      "0.04330262169241905\n",
      "0.04262199252843857\n",
      "0.041967909783124924\n",
      "0.04133879765868187\n",
      "0.040733255445957184\n",
      "0.040149930864572525\n",
      "0.039587583392858505\n",
      "0.03904508054256439\n",
      "0.038521356880664825\n",
      "0.038015421479940414\n",
      "0.03752635419368744\n",
      "0.03705329820513725\n",
      "0.036595456302165985\n",
      "0.03615207225084305\n",
      "0.035722460597753525\n",
      "0.03530595824122429\n",
      "0.03490196540951729\n",
      "0.03450990095734596\n",
      "0.03412923589348793\n",
      "0.0337594598531723\n",
      "0.03340010344982147\n",
      "0.03305072337388992\n",
      "0.03271089866757393\n",
      "0.03238023817539215\n",
      "0.03205836936831474\n",
      "0.03174493834376335\n",
      "0.03143961355090141\n",
      "0.031142089515924454\n",
      "0.03085206262767315\n",
      "0.030569251626729965\n",
      "0.03029339388012886\n",
      "0.030024241656064987\n",
      "0.02976154536008835\n",
      "0.029505085200071335\n",
      "0.029254639521241188\n",
      "0.029010003432631493\n",
      "0.028770985081791878\n",
      "0.02853739820420742\n",
      "0.028309056535363197\n",
      "0.028085799887776375\n",
      "0.027867458760738373\n",
      "0.027653876692056656\n"
     ]
    }
   ],
   "source": [
    "import gust\n",
    "import torch\n",
    "import torch.nn as nn\n",
    "import torch.nn.functional as F\n",
    "import numpy as np\n",
    "from scipy.spatial.distance import squareform\n",
    "torch.set_default_tensor_type('torch.cuda.FloatTensor')\n",
    "A, X, _, z = gust.load_dataset('cora').standardize().unpack()\n",
    "N = A.shape[0]\n",
    "D = 32\n",
    "Z = nn.Parameter(torch.empty(N, D).normal_(std=0.1))\n",
    "opt = torch.optim.Adam([Z], lr=1e-2)\n",
    "e1, e2 = A.nonzero()\n",
    "def get_loss(Z, eps=1e-5):\n",
    "    pdist = ((Z[:, None] - Z[None, :]).pow(2.0).sum(-1) + eps).sqrt()\n",
    "    neg_term = torch.log(-torch.expm1(-pdist) + 1e-5)\n",
    "    neg_term[np.diag_indices(N)] = 0.0\n",
    "    pos_term = -pdist[e1, e2]\n",
    "    neg_term[e1, e2] = 0.0\n",
    "    return -(pos_term.sum() + neg_term.sum()) / Z.shape[0]**2\n",
    "for epoch in range(100):\n",
    "    opt.zero_grad()\n",
    "    loss = get_loss()\n",
    "    loss.backward()\n",
    "    opt.step()\n",
    "    print(loss.item())"
   ]
  },
  {
   "cell_type": "code",
   "execution_count": null,
   "metadata": {},
   "outputs": [],
   "source": []
  }
 ],
 "metadata": {
  "kernelspec": {
   "display_name": "Python 3",
   "language": "python",
   "name": "python3"
  },
  "language_info": {
   "codemirror_mode": {
    "name": "ipython",
    "version": 3
   },
   "file_extension": ".py",
   "mimetype": "text/x-python",
   "name": "python",
   "nbconvert_exporter": "python",
   "pygments_lexer": "ipython3",
   "version": "3.7.5"
  }
 },
 "nbformat": 4,
 "nbformat_minor": 2
}

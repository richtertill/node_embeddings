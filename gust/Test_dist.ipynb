{
 "cells": [
  {
   "cell_type": "code",
   "execution_count": 14,
   "metadata": {},
   "outputs": [],
   "source": [
    "import gust\n",
    "import torch\n",
    "import torch.nn as nn\n",
    "import torch.nn.functional as F\n",
    "import numpy as np\n",
    "\n",
    "from scipy.spatial.distance import squareform"
   ]
  },
  {
   "cell_type": "code",
   "execution_count": 15,
   "metadata": {},
   "outputs": [],
   "source": [
    "torch.set_default_tensor_type('torch.cuda.FloatTensor')\n",
    "\n",
    "A, X, _, z = gust.load_dataset('cora_ml').standardize().unpack()\n",
    "adj = torch.FloatTensor(A.toarray()).cuda()"
   ]
  },
  {
   "cell_type": "code",
   "execution_count": 16,
   "metadata": {},
   "outputs": [],
   "source": [
    "N = A.shape[0]\n",
    "D = 32\n",
    "\n",
    "Z = nn.Parameter(torch.empty(N, D).normal_(std=0.1))\n",
    "opt = torch.optim.Adam([Z], lr=1e-2)\n",
    "e1, e2 = A.nonzero()"
   ]
  },
  {
   "cell_type": "code",
   "execution_count": 17,
   "metadata": {},
   "outputs": [],
   "source": [
    "def sig(Z, b=0.1, eps=1e-8): \n",
    "    dist = torch.matmul(Z,Z.T) +b\n",
    "    sigdist = 1/(1+torch.exp(dist+eps)+eps)\n",
    "    logsigdist = torch.log(sigdist+eps)\n",
    "    pos_term = logsigdist[e1,e2]\n",
    "    neg_term = torch.log(1-sigdist)\n",
    "    neg_term[np.diag_indices(N)] = 0.0\n",
    "    \n",
    "    return -(pos_term.sum() + neg_term.sum()) / Z.shape[0]**2"
   ]
  },
  {
   "cell_type": "code",
   "execution_count": 18,
   "metadata": {},
   "outputs": [],
   "source": [
    "def dist(Z, eps=1e-5):\n",
    "    dist = ((Z[:, None] - Z[None, :]).pow(2.0).sum(-1) + eps).sqrt()\n",
    "    neg_term = torch.log(-torch.expm1(-dist) + eps)\n",
    "    neg_term[np.diag_indices(N)] = 0.0\n",
    "    pos_term = -dist[e1, e2]   \n",
    "    neg_term[e1, e2] = 0.0\n",
    "    \n",
    "    return -(pos_term.sum() + neg_term.sum()) / Z.shape[0]**2"
   ]
  },
  {
   "cell_type": "code",
   "execution_count": 19,
   "metadata": {},
   "outputs": [
    {
     "name": "stdout",
     "output_type": "stream",
     "text": [
      "0.6460767388343811\n",
      "0.6446844339370728\n",
      "0.6415046453475952\n",
      "0.6360921859741211\n",
      "0.6282792091369629\n",
      "0.617963433265686\n",
      "0.6050869226455688\n",
      "0.5896317362785339\n",
      "0.5716220736503601\n",
      "0.5511276125907898\n",
      "0.528266966342926\n",
      "0.5032113790512085\n",
      "0.4761869013309479\n",
      "0.4474751949310303\n",
      "0.4174121916294098\n",
      "0.3863829970359802\n",
      "0.35481417179107666\n",
      "0.3231607973575592\n",
      "0.2918904423713684\n",
      "0.2614634037017822\n",
      "0.23231090605258942\n",
      "0.2048133760690689\n",
      "0.1792810708284378\n",
      "0.15593978762626648\n",
      "0.1349232792854309\n",
      "0.11627373844385147\n",
      "0.09994973242282867\n",
      "0.0858401507139206\n",
      "0.07378186285495758\n",
      "0.063578300178051\n",
      "0.05501674860715866\n",
      "0.04788283258676529\n",
      "0.04197130352258682\n",
      "0.03709319606423378\n",
      "0.03307977691292763\n",
      "0.029783945530653\n",
      "0.027079854160547256\n",
      "0.02486143261194229\n",
      "0.02304030768573284\n",
      "0.02154347486793995\n",
      "0.020311031490564346\n",
      "0.019294053316116333\n",
      "0.018452702090144157\n",
      "0.01775461435317993\n",
      "0.0171735230833292\n",
      "0.01668810471892357\n",
      "0.016281068325042725\n",
      "0.01593836210668087\n",
      "0.01564856432378292\n",
      "0.015402384102344513\n",
      "0.015192242339253426\n",
      "0.015011957846581936\n",
      "0.014856485649943352\n",
      "0.014721685089170933\n",
      "0.014604169875383377\n",
      "0.014501155354082584\n",
      "0.014410348609089851\n",
      "0.014329859986901283\n",
      "0.014258122071623802\n",
      "0.014193826355040073\n",
      "0.014135881327092648\n",
      "0.014083364978432655\n",
      "0.014035491272807121\n",
      "0.013991596177220345\n",
      "0.013951101340353489\n",
      "0.013913517817854881\n",
      "0.013878421857953072\n",
      "0.013845458626747131\n",
      "0.01381432730704546\n",
      "0.013784782961010933\n",
      "0.013756625354290009\n",
      "0.013729696162045002\n",
      "0.01370387151837349\n",
      "0.013679049909114838\n",
      "0.013655155897140503\n",
      "0.013632124289870262\n",
      "0.013609906658530235\n",
      "0.013588452711701393\n",
      "0.013567729853093624\n",
      "0.01354769803583622\n",
      "0.013528323732316494\n",
      "0.013509576208889484\n",
      "0.013491428457200527\n",
      "0.013473850674927235\n",
      "0.013456819579005241\n",
      "0.013440310955047607\n",
      "0.013424302451312542\n",
      "0.013408772647380829\n",
      "0.013393701985478401\n",
      "0.013379071839153767\n",
      "0.013364862650632858\n",
      "0.013351059518754482\n",
      "0.013337643817067146\n",
      "0.013324600644409657\n",
      "0.013311915099620819\n",
      "0.013299569487571716\n",
      "0.013287551701068878\n",
      "0.01327584870159626\n",
      "0.013264446519315243\n",
      "0.013253329321742058\n"
     ]
    }
   ],
   "source": [
    "for epoch in range(100):\n",
    "    opt.zero_grad()\n",
    "    loss = sig(Z)\n",
    "    loss.backward()\n",
    "    opt.step()\n",
    "    print(loss.item())"
   ]
  },
  {
   "cell_type": "code",
   "execution_count": null,
   "metadata": {},
   "outputs": [],
   "source": []
  }
 ],
 "metadata": {
  "kernelspec": {
   "display_name": "Python 3",
   "language": "python",
   "name": "python3"
  },
  "language_info": {
   "codemirror_mode": {
    "name": "ipython",
    "version": 3
   },
   "file_extension": ".py",
   "mimetype": "text/x-python",
   "name": "python",
   "nbconvert_exporter": "python",
   "pygments_lexer": "ipython3",
   "version": "3.7.3"
  }
 },
 "nbformat": 4,
 "nbformat_minor": 2
}

{
 "cells": [
  {
   "cell_type": "code",
   "execution_count": 1,
   "metadata": {},
   "outputs": [],
   "source": [
    "import gust\n",
    "import torch\n",
    "import torch.nn as nn\n",
    "import torch.nn.functional as F\n",
    "import numpy as np\n",
    "\n",
    "from scipy.spatial.distance import squareform"
   ]
  },
  {
   "cell_type": "code",
   "execution_count": 2,
   "metadata": {},
   "outputs": [],
   "source": [
    "torch.set_default_tensor_type('torch.cuda.FloatTensor')\n",
    "\n",
    "A, X, _, z = gust.load_dataset('cora_ml').standardize().unpack()\n",
    "adj = torch.FloatTensor(A.toarray()).cuda()"
   ]
  },
  {
   "cell_type": "code",
   "execution_count": 3,
   "metadata": {},
   "outputs": [],
   "source": [
    "N = A.shape[0]\n",
    "D = 32\n",
    "\n",
    "Z = nn.Parameter(torch.empty(N, D).normal_(std=0.1))\n",
    "opt = torch.optim.Adam([Z], lr=1e-2)\n",
    "e1, e2 = A.nonzero()"
   ]
  },
  {
   "cell_type": "code",
   "execution_count": 40,
   "metadata": {},
   "outputs": [],
   "source": [
    "def L0(Z, A):    \n",
    "    return torch.FloatTensor(A.toarray()).cuda()"
   ]
  },
  {
   "cell_type": "code",
   "execution_count": 41,
   "metadata": {},
   "outputs": [],
   "source": [
    "def L1(Z, A):\n",
    "    #L=D^-1A\n",
    "    degreenp=A.sum(axis=1)\n",
    "    degree = torch.from_numpy(degreenp).cuda().view(-1)\n",
    "    degreematrix = torch.zeros(N,N)\n",
    "    degreematrix[np.diag_indices(N)]=degree\n",
    "    invdegree = torch.inverse(degreematrix)\n",
    "    adj = torch.FloatTensor(A.toarray()).cuda()\n",
    "    return torch.matmul(invdegree, adj)"
   ]
  },
  {
   "cell_type": "code",
   "execution_count": 50,
   "metadata": {},
   "outputs": [],
   "source": [
    "def L2(Z, A):\n",
    "    degreenp=A.sum(axis=1)\n",
    "    degree = torch.from_numpy(degreenp).cuda().view(-1)\n",
    "    degreematrix = torch.zeros(N,N)\n",
    "    degreematrix[np.diag_indices(N)]=degree\n",
    "    sqrtdegree = np.linalg.sqrtm(degreematrix)\n",
    "    invdegree = torch.inverse(sqrtdegree)\n",
    "    adj = torch.FloatTensor(A.toarray()).cuda() \n",
    "    return torch.matmul(invdegree, adj, invdegree)"
   ]
  },
  {
   "cell_type": "code",
   "execution_count": 51,
   "metadata": {
    "scrolled": true
   },
   "outputs": [
    {
     "ename": "AttributeError",
     "evalue": "module 'numpy.linalg' has no attribute 'sqrtm'",
     "output_type": "error",
     "traceback": [
      "\u001b[0;31m---------------------------------------------------------------------------\u001b[0m",
      "\u001b[0;31mAttributeError\u001b[0m                            Traceback (most recent call last)",
      "\u001b[0;32m<ipython-input-51-986d34c5b6b5>\u001b[0m in \u001b[0;36m<module>\u001b[0;34m\u001b[0m\n\u001b[0;32m----> 1\u001b[0;31m \u001b[0mL2\u001b[0m\u001b[0;34m(\u001b[0m\u001b[0mZ\u001b[0m\u001b[0;34m,\u001b[0m \u001b[0mA\u001b[0m\u001b[0;34m)\u001b[0m\u001b[0;34m\u001b[0m\u001b[0;34m\u001b[0m\u001b[0m\n\u001b[0m",
      "\u001b[0;32m<ipython-input-50-f9b4dde60dc1>\u001b[0m in \u001b[0;36mL2\u001b[0;34m(Z, A)\u001b[0m\n\u001b[1;32m      4\u001b[0m     \u001b[0mdegreematrix\u001b[0m \u001b[0;34m=\u001b[0m \u001b[0mtorch\u001b[0m\u001b[0;34m.\u001b[0m\u001b[0mzeros\u001b[0m\u001b[0;34m(\u001b[0m\u001b[0mN\u001b[0m\u001b[0;34m,\u001b[0m\u001b[0mN\u001b[0m\u001b[0;34m)\u001b[0m\u001b[0;34m\u001b[0m\u001b[0;34m\u001b[0m\u001b[0m\n\u001b[1;32m      5\u001b[0m     \u001b[0mdegreematrix\u001b[0m\u001b[0;34m[\u001b[0m\u001b[0mnp\u001b[0m\u001b[0;34m.\u001b[0m\u001b[0mdiag_indices\u001b[0m\u001b[0;34m(\u001b[0m\u001b[0mN\u001b[0m\u001b[0;34m)\u001b[0m\u001b[0;34m]\u001b[0m\u001b[0;34m=\u001b[0m\u001b[0mdegree\u001b[0m\u001b[0;34m\u001b[0m\u001b[0;34m\u001b[0m\u001b[0m\n\u001b[0;32m----> 6\u001b[0;31m     \u001b[0msqrtdegree\u001b[0m \u001b[0;34m=\u001b[0m \u001b[0mnp\u001b[0m\u001b[0;34m.\u001b[0m\u001b[0mlinalg\u001b[0m\u001b[0;34m.\u001b[0m\u001b[0msqrtm\u001b[0m\u001b[0;34m(\u001b[0m\u001b[0mdegreematrix\u001b[0m\u001b[0;34m)\u001b[0m\u001b[0;34m\u001b[0m\u001b[0;34m\u001b[0m\u001b[0m\n\u001b[0m\u001b[1;32m      7\u001b[0m     \u001b[0minvdegree\u001b[0m \u001b[0;34m=\u001b[0m \u001b[0mtorch\u001b[0m\u001b[0;34m.\u001b[0m\u001b[0minverse\u001b[0m\u001b[0;34m(\u001b[0m\u001b[0msqrtdegree\u001b[0m\u001b[0;34m)\u001b[0m\u001b[0;34m\u001b[0m\u001b[0;34m\u001b[0m\u001b[0m\n\u001b[1;32m      8\u001b[0m     \u001b[0madj\u001b[0m \u001b[0;34m=\u001b[0m \u001b[0mtorch\u001b[0m\u001b[0;34m.\u001b[0m\u001b[0mFloatTensor\u001b[0m\u001b[0;34m(\u001b[0m\u001b[0mA\u001b[0m\u001b[0;34m.\u001b[0m\u001b[0mtoarray\u001b[0m\u001b[0;34m(\u001b[0m\u001b[0;34m)\u001b[0m\u001b[0;34m)\u001b[0m\u001b[0;34m.\u001b[0m\u001b[0mcuda\u001b[0m\u001b[0;34m(\u001b[0m\u001b[0;34m)\u001b[0m\u001b[0;34m\u001b[0m\u001b[0;34m\u001b[0m\u001b[0m\n",
      "\u001b[0;31mAttributeError\u001b[0m: module 'numpy.linalg' has no attribute 'sqrtm'"
     ]
    }
   ],
   "source": [
    "L2(Z, A)"
   ]
  },
  {
   "cell_type": "code",
   "execution_count": 4,
   "metadata": {},
   "outputs": [],
   "source": [
    "def sig(Z, b=0.1, eps=1e-8): \n",
    "    dist = torch.matmul(Z,Z.T) +b\n",
    "    sigdist = 1/(1+torch.exp(dist+eps)+eps)\n",
    "    logsigdist = torch.log(sigdist+eps)\n",
    "    pos_term = logsigdist[e1,e2]\n",
    "    neg_term = torch.log(1-sigdist)\n",
    "    neg_term[np.diag_indices(N)] = 0.0\n",
    "    \n",
    "    return -(pos_term.sum() + neg_term.sum()) / Z.shape[0]**2"
   ]
  },
  {
   "cell_type": "code",
   "execution_count": 5,
   "metadata": {},
   "outputs": [],
   "source": [
    "def dist(Z, eps=1e-5):\n",
    "    dist = ((Z[:, None] - Z[None, :]).pow(2.0).sum(-1) + eps).sqrt()\n",
    "    neg_term = torch.log(-torch.expm1(-dist) + eps)\n",
    "    neg_term[np.diag_indices(N)] = 0.0\n",
    "    pos_term = -dist[e1, e2]   \n",
    "    neg_term[e1, e2] = 0.0\n",
    "    \n",
    "    return -(pos_term.sum() + neg_term.sum()) / Z.shape[0]**2"
   ]
  },
  {
   "cell_type": "code",
   "execution_count": 6,
   "metadata": {},
   "outputs": [],
   "source": [
    "def exp(Z, eps=1e-8):\n",
    "    Z_abs = torch.FloatTensor.abs(Z)\n",
    "    dist = -torch.matmul(Z_abs,Z_abs.T)\n",
    "    neg_term=dist\n",
    "    neg_term[np.diag_indices(N)]=0.0\n",
    "    expdist=torch.exp(dist)\n",
    "    logdist=torch.log(1-expdist+eps)\n",
    "    pos_term = logdist[e1,e2]\n",
    "    \n",
    "    return -(pos_term.sum() + neg_term.sum()) / Z.shape[0]**2"
   ]
  },
  {
   "cell_type": "code",
   "execution_count": 7,
   "metadata": {},
   "outputs": [],
   "source": [
    "def kl(L, Z, eps=1e-8):\n",
    "    #P=softmax(ZZ^T)\n",
    "    dist=torch.matmul(Z,Z.T)\n",
    "    sigdist = 1/(1+torch.exp(dist+eps)+eps)\n",
    "    logsigdist = torch.log(sigdist+eps)\n",
    "    losses = T*logsigdist\n",
    "    return losses.sum()"
   ]
  },
  {
   "cell_type": "code",
   "execution_count": 8,
   "metadata": {},
   "outputs": [
    {
     "ename": "TypeError",
     "evalue": "kl() missing 1 required positional argument: 'Z'",
     "output_type": "error",
     "traceback": [
      "\u001b[0;31m---------------------------------------------------------------------------\u001b[0m",
      "\u001b[0;31mTypeError\u001b[0m                                 Traceback (most recent call last)",
      "\u001b[0;32m<ipython-input-8-640cce023753>\u001b[0m in \u001b[0;36m<module>\u001b[0;34m\u001b[0m\n\u001b[1;32m      1\u001b[0m \u001b[0;32mfor\u001b[0m \u001b[0mepoch\u001b[0m \u001b[0;32min\u001b[0m \u001b[0mrange\u001b[0m\u001b[0;34m(\u001b[0m\u001b[0;36m100\u001b[0m\u001b[0;34m)\u001b[0m\u001b[0;34m:\u001b[0m\u001b[0;34m\u001b[0m\u001b[0;34m\u001b[0m\u001b[0m\n\u001b[1;32m      2\u001b[0m     \u001b[0mopt\u001b[0m\u001b[0;34m.\u001b[0m\u001b[0mzero_grad\u001b[0m\u001b[0;34m(\u001b[0m\u001b[0;34m)\u001b[0m\u001b[0;34m\u001b[0m\u001b[0;34m\u001b[0m\u001b[0m\n\u001b[0;32m----> 3\u001b[0;31m     \u001b[0mloss\u001b[0m \u001b[0;34m=\u001b[0m \u001b[0mkl\u001b[0m\u001b[0;34m(\u001b[0m\u001b[0mZ\u001b[0m\u001b[0;34m)\u001b[0m\u001b[0;34m\u001b[0m\u001b[0;34m\u001b[0m\u001b[0m\n\u001b[0m\u001b[1;32m      4\u001b[0m     \u001b[0mloss\u001b[0m\u001b[0;34m.\u001b[0m\u001b[0mbackward\u001b[0m\u001b[0;34m(\u001b[0m\u001b[0;34m)\u001b[0m\u001b[0;34m\u001b[0m\u001b[0;34m\u001b[0m\u001b[0m\n\u001b[1;32m      5\u001b[0m     \u001b[0mopt\u001b[0m\u001b[0;34m.\u001b[0m\u001b[0mstep\u001b[0m\u001b[0;34m(\u001b[0m\u001b[0;34m)\u001b[0m\u001b[0;34m\u001b[0m\u001b[0;34m\u001b[0m\u001b[0m\n",
      "\u001b[0;31mTypeError\u001b[0m: kl() missing 1 required positional argument: 'Z'"
     ]
    }
   ],
   "source": [
    "for epoch in range(100):\n",
    "    opt.zero_grad()\n",
    "    loss = kl(Z)\n",
    "    loss.backward()\n",
    "    opt.step()\n",
    "    print(loss.item())"
   ]
  },
  {
   "cell_type": "code",
   "execution_count": null,
   "metadata": {},
   "outputs": [],
   "source": []
  }
 ],
 "metadata": {
  "kernelspec": {
   "display_name": "Python 3",
   "language": "python",
   "name": "python3"
  },
  "language_info": {
   "codemirror_mode": {
    "name": "ipython",
    "version": 3
   },
   "file_extension": ".py",
   "mimetype": "text/x-python",
   "name": "python",
   "nbconvert_exporter": "python",
   "pygments_lexer": "ipython3",
   "version": "3.7.3"
  }
 },
 "nbformat": 4,
 "nbformat_minor": 2
}

{
 "cells": [
  {
   "cell_type": "code",
   "execution_count": 4,
   "metadata": {},
   "outputs": [],
   "source": [
    "import gust\n",
    "import torch\n",
    "import torch.nn as nn\n",
    "import torch.nn.functional as F\n",
    "import numpy as np\n",
    "from numpy import matrix\n",
    "import scipy\n",
    "import scipy.sparse as sp\n",
    "import torch.distributions as dist\n",
    "from time import time\n",
    "\n",
    "from scipy.spatial.distance import squareform"
   ]
  },
  {
   "cell_type": "code",
   "execution_count": 5,
   "metadata": {
    "scrolled": true
   },
   "outputs": [],
   "source": [
    "torch.set_default_tensor_type('torch.cuda.FloatTensor')\n",
    "\n",
    "A, X, _, z = gust.load_dataset('cora_ml').standardize().unpack()\n",
    "#adj = torch.FloatTensor(A.toarray()).cuda()\n",
    "#A = A[0:4,0:4]"
   ]
  },
  {
   "cell_type": "code",
   "execution_count": 32,
   "metadata": {
    "scrolled": true
   },
   "outputs": [
    {
     "name": "stdout",
     "output_type": "stream",
     "text": [
      "tensor([1.0000, 1.0000, 1.0000,  ..., 1.0000, 1.0000, 1.0000])\n"
     ]
    }
   ],
   "source": [
    "def laplacian(A):\n",
    "    #Transition Matrix P=D-A\n",
    "    num_nodes = A.shape[0]\n",
    "    D = np.ravel(A.sum(1))\n",
    "    L = sp.diags(D) - A\n",
    "    return L\n",
    "\n",
    "\n",
    "def sym_normalized_laplacian(A):\n",
    "    #Symmetric, Normalized Laplacian P=D^(−1/2)AD^(−1/2)\n",
    "    num_nodes = A.shape[0]\n",
    "    D = np.ravel(A.sum(1))\n",
    "    #D[D == 0] = 1  # avoid division by 0 error\n",
    "    D_sqrt = np.sqrt(D)\n",
    "    a=np.ones(D_sqrt.shape[0])\n",
    "    D_sqrt_inv = np.divide(a, D_sqrt, out=np.zeros_like(a), where=D!=0) \n",
    "    L = sp.diags(D_sqrt_inv) * A * sp.diags(D_sqrt_inv)\n",
    "    #L = A / D_sqrt[:, None] / D_sqrt[None, :]\n",
    "    return L\n",
    "\n",
    "def Transition(A):\n",
    "    #Laplacian P=D^−1A\n",
    "    num_nodes = A.shape[0]\n",
    "    D = np.ravel(A.sum(1))\n",
    "    #D[D == 0] = 1  # avoid division by 0 error\n",
    "    a=np.ones(D.shape[0])\n",
    "    D_inv = np.divide(a, D, out=np.zeros_like(a), where=D!=0)\n",
    "    L = sp.diags(D_inv) * A\n",
    "    return L\n",
    "\n",
    "def PPR(A):\n",
    "    #Personalized PageRank Matrix as described in https://openreview.net/pdf?id=H1gL-2A9Ym with the there used hyperparameter alpha=0.1\n",
    "    #P=alpha(I-(1-alpha)*D^-1/2(A+I)D^-1/2)^-1\n",
    "    print(A.toarray())\n",
    "    alpha = 0.1  \n",
    "    num_nodes = A.shape[0]\n",
    "    D = np.ravel(A.sum(1))\n",
    "    #D[D == 0] = 1  # avoid division by 0 error\n",
    "    D_sqrt = np.sqrt(D)\n",
    "    a=np.ones(D_sqrt.shape[0])\n",
    "    D_sqrt_inv = np.divide(a, D_sqrt, out=np.zeros_like(a), where=D!=0)\n",
    "    A_tilde = sp.diags(D_sqrt_inv) * (A + sp.identity(A.shape[0])) * sp.diags(D_sqrt_inv)\n",
    "    print('A_tilde: ', A_tilde.toarray())\n",
    "    L_inv = (sp.identity(A.shape[0]) - (1-alpha) * A_tilde)\n",
    "    print('L_inv: ', L_inv.toarray())\n",
    "    L = alpha * np.linalg.pinv(L_inv.toarray())\n",
    "    print(L)\n",
    "    return L\n",
    "\n",
    "def NetMF(A):\n",
    "    eps=1e-5\n",
    "    #volume of the graph, usually for weighted graphs, here weight 1\n",
    "    vol = A.sum()\n",
    "    \n",
    "    #b is the number of negative samples, hyperparameter\n",
    "    b = 3\n",
    "    \n",
    "    #T is the window size, as a small window size algorithm is used, set T=10, which showed the best results in the paper\n",
    "    T=10\n",
    "    \n",
    "    #Transition Matrix P=D^-1A\n",
    "    num_nodes = A.shape[0]\n",
    "    D = np.ravel(A.sum(1))\n",
    "    #D[D == 0] = 1  # avoid division by 0 error\n",
    "    a=np.ones(D.shape[0])\n",
    "    D_inv = np.divide(a, D, out=np.zeros_like(a), where=D!=0)\n",
    "    P = np.diag(D_inv) * A.todense()\n",
    "    \n",
    "    #Compute M = vol(G)/bT (sum_r=1^T P^r)D^-1\n",
    "    sum_np=0\n",
    "    for r in range(1,T+1):\n",
    "        sum_np+=np.linalg.matrix_power(P,r)\n",
    "    M = sum_np * np.diag(D_inv) * vol / (b*T)\n",
    "    M_max = np.maximum(M,np.ones(M.shape[0]))\n",
    "\n",
    "    #Compute SVD of M\n",
    "    u, s, vh = np.linalg.svd(np.log(M_max), full_matrices=True)\n",
    "\n",
    "    #Compute L\n",
    "    L = u*np.diag(np.sqrt(s+eps))\n",
    "    print(L.sum(axis=1))\n",
    "    return L\n",
    "\n",
    "def simrank_quick(A, C = 0.8, acc = 0.1):\n",
    "    #https://link.springer.com/chapter/10.1007/978-3-642-14246-8_29\n",
    "    #Algorithm 2: PAUG-SimRank: Parallel Accelerative SimRank for Undirected Graphs\n",
    "    #Step 1: Spectral Predecomposition\n",
    "    A = A.todense()\n",
    "    print(torch.tensor(A))\n",
    "    eigvalues, eigvectors = torch.eig(torch.tensor(A), eigenvectors=True)\n",
    "    eigvalues = eigvalues[:,0]\n",
    "    \n",
    "    #Step 2: Iterative Elementwise Matrix Multiplication\n",
    "    #for i in range(eigvalues.shape[0]):\n",
    "        \n",
    "        \n",
    "    \n",
    "    return \n",
    "\n",
    "def simrank(A, C = 0.8, acc = 0.1):\n",
    "    #https://link.springer.com/chapter/10.1007/978-3-642-14246-8_29\n",
    "    #Algorithm 1: AUG-SimRank: Accelerative SimRank for Undirected Graphs\n",
    "    A = torch.tensor(A.todense())\n",
    "    \n",
    "    #Calculate Transition Probability Q\n",
    "    Q = A / A.sum(1, keepdims=True)\n",
    "    \n",
    "    #Decompose Q\n",
    "    eigvalues, eigvectors = torch.eig(Q, eigenvectors=True)\n",
    "    #for undirected graphs all eigenvalues are real\n",
    "    eigvalues = eigvalues[:,0]\n",
    "    \n",
    "    #Initialize\n",
    "    S_old = torch.eye(Q.shape[0])\n",
    "    M = C * torch.diag(eigvalues) @ torch.diag(eigvalues).T\n",
    "    #k=0\n",
    "    \n",
    "    #Converge\n",
    "    while True:\n",
    "        #k+=1\n",
    "        S_new = torch.max(M*S_old,torch.eye(M.shape[0]))\n",
    "        \n",
    "        if torch.max(torch.abs(S_new-S_old))<acc:\n",
    "            break\n",
    "        S_old = S_new\n",
    "    \n",
    "    L = eigvectors @ S_new @ torch.inverse(eigvectors)\n",
    "    \n",
    "    return L\n",
    "\n",
    "\n",
    "L = simrank(A)\n",
    "print(L.sum(axis=1))"
   ]
  },
  {
   "cell_type": "code",
   "execution_count": 3,
   "metadata": {},
   "outputs": [],
   "source": [
    "N = A.shape[0]\n",
    "D = 32\n",
    "\n",
    "Z = nn.Parameter(torch.empty(N, D).normal_(std=0.1))\n",
    "x = nn.Parameter(torch.empty(N, D).normal_(std=0.1))\n",
    "\n",
    "opt = torch.optim.Adam([Z], lr=1e-2)\n",
    "e1, e2 = A.nonzero()"
   ]
  },
  {
   "cell_type": "code",
   "execution_count": 4,
   "metadata": {},
   "outputs": [],
   "source": [
    "def L0(A):    \n",
    "    return torch.FloatTensor(A.toarray()).cuda()"
   ]
  },
  {
   "cell_type": "code",
   "execution_count": 5,
   "metadata": {},
   "outputs": [],
   "source": [
    "def L1(A):\n",
    "    #L=D^-1A\n",
    "    degreenp=A.sum(axis=1)\n",
    "    degree = torch.from_numpy(degreenp).cuda().view(-1)\n",
    "    degreematrix = torch.zeros(N,N)\n",
    "    degreematrix[np.diag_indices(N)]=degree\n",
    "    invdegree = torch.inverse(degreematrix)\n",
    "    adj = torch.FloatTensor(A.toarray()).cuda()\n",
    "    return torch.matmul(invdegree, adj)\n",
    "\n",
    "Z = L1(A)"
   ]
  },
  {
   "cell_type": "code",
   "execution_count": 23,
   "metadata": {},
   "outputs": [],
   "source": [
    "def L2(A):\n",
    "    degreenp=A.sum(axis=1)\n",
    "    degree = torch.from_numpy(degreenp).cuda().view(-1)\n",
    "    degreematrix = torch.zeros(N,N)\n",
    "    degreematrix[np.diag_indices(N)]=degree\n",
    "    sqrtdegree = degreematrix.sqrt()\n",
    "    invdegree = torch.inverse(sqrtdegree)\n",
    "    adj = torch.FloatTensor(A.toarray()).cuda() \n",
    "    return torch.matmul(invdegree, torch.matmul(adj, invdegree))"
   ]
  },
  {
   "cell_type": "code",
   "execution_count": 24,
   "metadata": {
    "scrolled": true
   },
   "outputs": [
    {
     "data": {
      "text/plain": [
       "tensor([[0.0000, 0.0000, 0.0000,  ..., 0.0000, 0.0000, 0.0000],\n",
       "        [0.0000, 0.0000, 0.1429,  ..., 0.0000, 0.0000, 0.0000],\n",
       "        [0.0000, 0.1429, 0.0000,  ..., 0.0000, 0.0000, 0.0000],\n",
       "        ...,\n",
       "        [0.0000, 0.0000, 0.0000,  ..., 0.0000, 0.0000, 0.0000],\n",
       "        [0.0000, 0.0000, 0.0000,  ..., 0.0000, 0.0000, 0.0000],\n",
       "        [0.0000, 0.0000, 0.0000,  ..., 0.0000, 0.0000, 0.0000]])"
      ]
     },
     "execution_count": 24,
     "metadata": {},
     "output_type": "execute_result"
    }
   ],
   "source": [
    "L2(A)"
   ]
  },
  {
   "cell_type": "code",
   "execution_count": 20,
   "metadata": {},
   "outputs": [],
   "source": [
    "def sig(Z, b=0.1, eps=1e-8): \n",
    "    dist = torch.matmul(Z,Z.T) +b\n",
    "    sigdist = 1/(1+torch.exp(dist+eps)+eps)\n",
    "    logsigdist = torch.log(sigdist+eps)\n",
    "    pos_term = logsigdist[e1,e2]\n",
    "    neg_term = torch.log(1-sigdist)\n",
    "    neg_term[np.diag_indices(N)] = 0.0\n",
    "    \n",
    "    return -(pos_term.sum() + neg_term.sum()) / Z.shape[0]**2"
   ]
  },
  {
   "cell_type": "code",
   "execution_count": 21,
   "metadata": {},
   "outputs": [],
   "source": [
    "def dist(Z, eps=1e-5):\n",
    "    gamma = 0.1\n",
    "    dist = ((Z[:, None] - Z[None, :]).pow(2.0).sum(-1) + eps).sqrt()\n",
    "    neg_term = torch.log(-torch.expm1(-dist)*gamma + eps)\n",
    "    print(neg_term)\n",
    "    neg_term[np.diag_indices(N)] = 0.0\n",
    "    pos_term = -dist[e1, e2]   \n",
    "    neg_term[e1, e2] = 0.0\n",
    "    \n",
    "    return -(pos_term.sum() + neg_term.sum()) / Z.shape[0]**2"
   ]
  },
  {
   "cell_type": "code",
   "execution_count": 22,
   "metadata": {},
   "outputs": [],
   "source": [
    "def exp(Z, eps=1e-8):\n",
    "    #e1, e2 = similarity_measure.nonzero()\n",
    "    emb_abs = torch.FloatTensor.abs(Z)\n",
    "    dist = -torch.matmul(emb_abs, emb_abs.T)\n",
    "    neg_term = dist\n",
    "    neg_term[np.diag_indices(Z.shape[0])] = 0.0\n",
    "    expdist = torch.exp(dist)\n",
    "    embedding = 1 - expdist\n",
    "    logdist = torch.log(embedding + eps)\n",
    "    pos_term = logdist[e1, e2]\n",
    "    size=Z.shape[0]\n",
    "    print(embedding)\n",
    "    return -(pos_term.sum() + neg_term.sum()) / Z.shape[0]**2"
   ]
  },
  {
   "cell_type": "code",
   "execution_count": 23,
   "metadata": {},
   "outputs": [],
   "source": [
    "def kl(L, Z, eps=1e-8):\n",
    "    #P=softmax(ZZ^T)\n",
    "    dist=torch.matmul(Z,Z.T)\n",
    "    sigdist = 1/(1+torch.exp(dist+eps)+eps)\n",
    "    logsigdist = torch.log(sigdist+eps)\n",
    "    losses = T*logsigdist\n",
    "    return losses.sum()"
   ]
  },
  {
   "cell_type": "code",
   "execution_count": 24,
   "metadata": {},
   "outputs": [
    {
     "name": "stdout",
     "output_type": "stream",
     "text": [
      "tensor([[0.0000, 0.0000, 0.0000,  ..., 0.0000, 0.0000, 0.0000],\n",
      "        [0.0000, 0.0000, 0.0202,  ..., 0.0000, 0.0000, 0.0000],\n",
      "        [0.0000, 0.0202, 0.0000,  ..., 0.0000, 0.0000, 0.0000],\n",
      "        ...,\n",
      "        [0.0000, 0.0000, 0.0000,  ..., 0.0000, 0.0000, 0.0000],\n",
      "        [0.0000, 0.0000, 0.0000,  ..., 0.0000, 0.0000, 0.0000],\n",
      "        [0.0000, 0.0000, 0.0000,  ..., 0.0000, 0.0000, 0.0000]])\n"
     ]
    },
    {
     "ename": "RuntimeError",
     "evalue": "element 0 of tensors does not require grad and does not have a grad_fn",
     "output_type": "error",
     "traceback": [
      "\u001b[0;31m---------------------------------------------------------------------------\u001b[0m",
      "\u001b[0;31mRuntimeError\u001b[0m                              Traceback (most recent call last)",
      "\u001b[0;32m<ipython-input-24-8d430143f5b7>\u001b[0m in \u001b[0;36m<module>\u001b[0;34m\u001b[0m\n\u001b[1;32m      2\u001b[0m     \u001b[0mopt\u001b[0m\u001b[0;34m.\u001b[0m\u001b[0mzero_grad\u001b[0m\u001b[0;34m(\u001b[0m\u001b[0;34m)\u001b[0m\u001b[0;34m\u001b[0m\u001b[0;34m\u001b[0m\u001b[0m\n\u001b[1;32m      3\u001b[0m     \u001b[0mloss\u001b[0m \u001b[0;34m=\u001b[0m \u001b[0mexp\u001b[0m\u001b[0;34m(\u001b[0m\u001b[0mZ\u001b[0m\u001b[0;34m)\u001b[0m\u001b[0;34m\u001b[0m\u001b[0;34m\u001b[0m\u001b[0m\n\u001b[0;32m----> 4\u001b[0;31m     \u001b[0mloss\u001b[0m\u001b[0;34m.\u001b[0m\u001b[0mbackward\u001b[0m\u001b[0;34m(\u001b[0m\u001b[0;34m)\u001b[0m\u001b[0;34m\u001b[0m\u001b[0;34m\u001b[0m\u001b[0m\n\u001b[0m\u001b[1;32m      5\u001b[0m     \u001b[0mopt\u001b[0m\u001b[0;34m.\u001b[0m\u001b[0mstep\u001b[0m\u001b[0;34m(\u001b[0m\u001b[0;34m)\u001b[0m\u001b[0;34m\u001b[0m\u001b[0;34m\u001b[0m\u001b[0m\n\u001b[1;32m      6\u001b[0m     \u001b[0mprint\u001b[0m\u001b[0;34m(\u001b[0m\u001b[0mloss\u001b[0m\u001b[0;34m.\u001b[0m\u001b[0mitem\u001b[0m\u001b[0;34m(\u001b[0m\u001b[0;34m)\u001b[0m\u001b[0;34m)\u001b[0m\u001b[0;34m\u001b[0m\u001b[0;34m\u001b[0m\u001b[0m\n",
      "\u001b[0;32m/nfs/students/winter-term-2019/project_5/richter/miniconda3/lib/python3.7/site-packages/torch/tensor.py\u001b[0m in \u001b[0;36mbackward\u001b[0;34m(self, gradient, retain_graph, create_graph)\u001b[0m\n\u001b[1;32m    164\u001b[0m                 \u001b[0mproducts\u001b[0m\u001b[0;34m.\u001b[0m \u001b[0mDefaults\u001b[0m \u001b[0mto\u001b[0m\u001b[0;31m \u001b[0m\u001b[0;31m`\u001b[0m\u001b[0;31m`\u001b[0m\u001b[0;32mFalse\u001b[0m\u001b[0;31m`\u001b[0m\u001b[0;31m`\u001b[0m\u001b[0;34m.\u001b[0m\u001b[0;34m\u001b[0m\u001b[0;34m\u001b[0m\u001b[0m\n\u001b[1;32m    165\u001b[0m         \"\"\"\n\u001b[0;32m--> 166\u001b[0;31m         \u001b[0mtorch\u001b[0m\u001b[0;34m.\u001b[0m\u001b[0mautograd\u001b[0m\u001b[0;34m.\u001b[0m\u001b[0mbackward\u001b[0m\u001b[0;34m(\u001b[0m\u001b[0mself\u001b[0m\u001b[0;34m,\u001b[0m \u001b[0mgradient\u001b[0m\u001b[0;34m,\u001b[0m \u001b[0mretain_graph\u001b[0m\u001b[0;34m,\u001b[0m \u001b[0mcreate_graph\u001b[0m\u001b[0;34m)\u001b[0m\u001b[0;34m\u001b[0m\u001b[0;34m\u001b[0m\u001b[0m\n\u001b[0m\u001b[1;32m    167\u001b[0m \u001b[0;34m\u001b[0m\u001b[0m\n\u001b[1;32m    168\u001b[0m     \u001b[0;32mdef\u001b[0m \u001b[0mregister_hook\u001b[0m\u001b[0;34m(\u001b[0m\u001b[0mself\u001b[0m\u001b[0;34m,\u001b[0m \u001b[0mhook\u001b[0m\u001b[0;34m)\u001b[0m\u001b[0;34m:\u001b[0m\u001b[0;34m\u001b[0m\u001b[0;34m\u001b[0m\u001b[0m\n",
      "\u001b[0;32m/nfs/students/winter-term-2019/project_5/richter/miniconda3/lib/python3.7/site-packages/torch/autograd/__init__.py\u001b[0m in \u001b[0;36mbackward\u001b[0;34m(tensors, grad_tensors, retain_graph, create_graph, grad_variables)\u001b[0m\n\u001b[1;32m     97\u001b[0m     Variable._execution_engine.run_backward(\n\u001b[1;32m     98\u001b[0m         \u001b[0mtensors\u001b[0m\u001b[0;34m,\u001b[0m \u001b[0mgrad_tensors\u001b[0m\u001b[0;34m,\u001b[0m \u001b[0mretain_graph\u001b[0m\u001b[0;34m,\u001b[0m \u001b[0mcreate_graph\u001b[0m\u001b[0;34m,\u001b[0m\u001b[0;34m\u001b[0m\u001b[0;34m\u001b[0m\u001b[0m\n\u001b[0;32m---> 99\u001b[0;31m         allow_unreachable=True)  # allow_unreachable flag\n\u001b[0m\u001b[1;32m    100\u001b[0m \u001b[0;34m\u001b[0m\u001b[0m\n\u001b[1;32m    101\u001b[0m \u001b[0;34m\u001b[0m\u001b[0m\n",
      "\u001b[0;31mRuntimeError\u001b[0m: element 0 of tensors does not require grad and does not have a grad_fn"
     ]
    }
   ],
   "source": [
    "for epoch in range(3):\n",
    "    opt.zero_grad()\n",
    "    loss = exp(Z)\n",
    "    loss.backward()\n",
    "    opt.step()\n",
    "    print(loss.item())"
   ]
  },
  {
   "cell_type": "code",
   "execution_count": null,
   "metadata": {},
   "outputs": [],
   "source": []
  }
 ],
 "metadata": {
  "kernelspec": {
   "display_name": "Python 3",
   "language": "python",
   "name": "python3"
  },
  "language_info": {
   "codemirror_mode": {
    "name": "ipython",
    "version": 3
   },
   "file_extension": ".py",
   "mimetype": "text/x-python",
   "name": "python",
   "nbconvert_exporter": "python",
   "pygments_lexer": "ipython3",
   "version": "3.7.3"
  }
 },
 "nbformat": 4,
 "nbformat_minor": 2
}
